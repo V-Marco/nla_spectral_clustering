{
 "cells": [
  {
   "cell_type": "code",
   "execution_count": 1,
   "metadata": {},
   "outputs": [],
   "source": [
    "import pandas as pd\n",
    "import numpy as np\n",
    "from scipy.linalg import sqrtm\n",
    "from sklearn.metrics import accuracy_score\n",
    "import time\n",
    "import matplotlib.pyplot as plt\n",
    "from sklearn.datasets import make_blobs\n",
    "import warnings\n",
    "warnings.filterwarnings(\"ignore\")\n",
    "from scipy.spatial.distance import pdist,squareform,euclidean\n",
    "from scipy.spatial import distance_matrix\n",
    "from scipy.sparse.linalg import eigsh\n",
    "from scipy.stats import unitary_group\n",
    "from sklearn.metrics.pairwise import pairwise_distances\n",
    "from sklearn.manifold.t_sne import (_joint_probabilities,\n",
    "                                    _kl_divergence)\n",
    "\n",
    "\n",
    "np.random.seed(123)"
   ]
  },
  {
   "cell_type": "code",
   "execution_count": 2,
   "metadata": {},
   "outputs": [],
   "source": [
    "def _joint_probabilities_constant_sigma(D, sigma):\n",
    "    P = np.exp(-D**2/2 * sigma**2)\n",
    "    P /= np.sum(P, axis=1)\n",
    "    return P"
   ]
  },
  {
   "cell_type": "code",
   "execution_count": 3,
   "metadata": {},
   "outputs": [],
   "source": [
    "def similarity_func(u, v):\n",
    "    return 1/(1+euclidean(u,v))"
   ]
  },
  {
   "cell_type": "markdown",
   "metadata": {},
   "source": [
    "My version of MSC, implemented via the algorithm description in the paper. It is rather slow, so that we have decided to replace it by the original code by Stella Yu (2003), below."
   ]
  },
  {
   "cell_type": "code",
   "execution_count": 17,
   "metadata": {},
   "outputs": [],
   "source": [
    "def MSC(X, n_classes, n_steps=1000, tol=1e-5):\n",
    "    '''\n",
    "    Implementation of Direct Normalized Cut (Algorithm 1) from the article.\n",
    "    \n",
    "    Attributes:\n",
    "    ---\n",
    "    X: ndarray\n",
    "        Matrix (dxn), d is the number of features, n is the number of observations.\n",
    "    n_classes: int\n",
    "        Number of clusters.\n",
    "    n_steps: int\n",
    "        Number of iterations.\n",
    "    tol: float\n",
    "        Precision of the algorithm.\n",
    "    \n",
    "    Returns:\n",
    "    ---\n",
    "    Y: ndarray\n",
    "         Matrix (nxc) with predicted clusters.\n",
    "    '''\n",
    "    D = pairwise_distances(X, squared=True)\n",
    "    A = _joint_probabilities_constant_sigma(D, .002)\n",
    "    #A = squareform(pdist(X, similarity_func))       \n",
    "                              \n",
    "    D_A = np.diag(A.sum(axis=1))\n",
    "    D_A_inv_0_5 = np.diag(np.power(A.sum(axis=1), -0.5))\n",
    "    D_A_0_5 = np.diag(np.power(A.sum(axis=1), 0.5))\n",
    "    \n",
    "    Y = np.random.rand(A.shape[0], n_classes)\n",
    "    row_maxes = Y.max(axis=1).reshape(-1, 1)\n",
    "    Y[:] = np.where(Y == row_maxes, 1, 0)\n",
    "    \n",
    "    for i in range(n_steps):\n",
    "        Z = Y @ np.linalg.pinv(sqrtm(Y.T @ D_A @ Y))\n",
    "    \n",
    "        eigen_val, eigen_vec = eigsh(np.linalg.pinv(D_A) @ A, n_classes, maxiter = 1000, tol = tol, which = 'LA')\n",
    "    \n",
    "        i = np.argsort(-eigen_val)\n",
    "        eigen_val = eigen_val[i]\n",
    "        eigen_vec = eigen_vec[:,i]\n",
    "    \n",
    "        eigen_vec = D_A * np.matrix(eigen_vec)\n",
    "        norm_ones = np.linalg.norm(np.ones((A.shape[0], 1)))\n",
    "        for i in range(0, eigen_vec.shape[1]):\n",
    "            eigen_vec[:,i] = (eigen_vec[:,i] / np.linalg.norm(eigen_vec[:,i])) * norm_ones\n",
    "        if eigen_vec[0,i] != 0:\n",
    "                eigen_vec[:,i] = -1 * eigen_vec[:,i] * np.sign( eigen_vec[0,i] )\n",
    "    \n",
    "        c = np.zeros((A.shape[0], 1))\n",
    "        R = np.matrix(np.zeros((n_classes, n_classes)))\n",
    "        R[:, 0] = eigen_vec[int(np.random.rand(1) * (A.shape[0] - 1)),:].transpose()\n",
    "\n",
    "        for j in range(1,n_classes):\n",
    "            c = c + abs(eigen_vec * R[:, j - 1])\n",
    "            R[:, j]=eigen_vec[c.argmin(), :].transpose()\n",
    "        Z_star = np.matrix(eigen_vec) @ R\n",
    "    \n",
    "        Y_star = sqrtm(np.linalg.pinv(np.diag(np.diag(Z_star @ Z_star.T)))) @ Z_star\n",
    "        Y_0 = Y\n",
    "        Y = Y_star @ R\n",
    "        \n",
    "        if  np.linalg.norm(Y_0 - Y, \"fro\") < tol:\n",
    "            break\n",
    "        \n",
    "    return Y"
   ]
  },
  {
   "cell_type": "code",
   "execution_count": 5,
   "metadata": {},
   "outputs": [],
   "source": [
    "def accuracy(clusters_labels, y_true):\n",
    "    '''\n",
    "    Function for measuring accuracy of clusterization.\n",
    "    \n",
    "    Attributes:\n",
    "    ---\n",
    "    clusters_labels: ndarray\n",
    "        Predicted labels, size: (1xc).\n",
    "    y_true: ndarray\n",
    "        True labels, size: (1xc).\n",
    "    \n",
    "    Returns:\n",
    "    ---\n",
    "    accur: float\n",
    "        Accuracy of clusterization.\n",
    "    '''\n",
    "    clusters = np.unique(clusters_labels)\n",
    "    y_pred = np.empty(len(y_true))\n",
    "    \n",
    "    for cluster in clusters:\n",
    "        mask_cluster = clusters_labels == cluster\n",
    "        mean_pred = np.bincount(y_true[mask_cluster]).argmax()\n",
    "        y_pred[mask_cluster] = mean_pred\n",
    "    accur = accuracy_score(y_true, y_pred)\n",
    "    return accur"
   ]
  },
  {
   "cell_type": "markdown",
   "metadata": {},
   "source": [
    "The Stella Yu (2003) MSC implementation: it is faster, so we will perform the experiments with it!"
   ]
  },
  {
   "cell_type": "code",
   "execution_count": 480,
   "metadata": {},
   "outputs": [],
   "source": [
    "#### python_ncut_lib.py\n",
    "# Copyright (C) 2010 R. Cameron Craddock (cameron.craddock@gmail.com)\n",
    "#\n",
    "# This script is a part of the pyClusterROI python toolbox for the spatially\n",
    "# constrained clustering of fMRI data. It provides the library functions for\n",
    "# performing normalized cut clustering according to:\n",
    "#\n",
    "# Stella Yu and Jianbo Shi, \"Understanding Popout through Repulsion,\" Computer\n",
    "# Vision and Pattern Recognition, December, 2001.  \n",
    "#\n",
    "# Shi, J., & Malik, J. (2000).  Normalized cuts and image segmentation. IEEE\n",
    "# Transactions on Pattern Analysis and Machine Intelligence, 22(8), 888-905.\n",
    "# doi: 10.1109/34.868688.\n",
    "#\n",
    "# Yu, S. X., & Shi, J. (2003). Multiclass spectral clustering. Proceedings Ninth\n",
    "# IEEE International Conference on Computer Vision, (1), 313-319 vol.1. Ieee.\n",
    "# doi: 10.1109/ICCV.2003.1238361.\n",
    "#\n",
    "# This code is a port of the NcutClustering_7 matlab toolbox available here:\n",
    "# http://www.cis.upenn.edu/~jshi/software/\n",
    "#\n",
    "# For more information refer to:\n",
    "#\n",
    "# Craddock, R. C.; James, G. A.; Holtzheimer, P. E.; Hu, X. P. & Mayberg, H. S.\n",
    "# A whole brain fMRI atlas generated via spatially constrained spectral\n",
    "# clustering Human Brain Mapping, 2012, 33, 1914-1928 doi: 10.1002/hbm.21333.\n",
    "#\n",
    "# ARTICLE{Craddock2012,\n",
    "#   author = {Craddock, R C and James, G A and Holtzheimer, P E and Hu, X P and\n",
    "#   Mayberg, H S},\n",
    "#   title = {{A whole brain fMRI atlas generated via spatially constrained\n",
    "#   spectral clustering}},\n",
    "#   journal = {Human Brain Mapping},\n",
    "#   year = {2012},\n",
    "#   volume = {33},\n",
    "#   pages = {1914--1928},\n",
    "#   number = {8},\n",
    "#   address = {Department of Neuroscience, Baylor College of Medicine, Houston,\n",
    "#       TX, United States},\n",
    "#   pmid = {21769991},\n",
    "# } \n",
    "#\n",
    "# Documentation, updated source code and other information can be found at the\n",
    "# NITRC web page: http://www.nitrc.org/projects/cluster_roi/ and on github at\n",
    "# https://github.com/ccraddock/cluster_roi\n",
    "#\n",
    "# This program is free software: you can redistribute it and/or modify\n",
    "# it under the terms of the GNU General Public License as published by\n",
    "# the Free Software Foundation, either version 3 of the License, or\n",
    "# (at your option) any later version.\n",
    "# \n",
    "# This program is distributed in the hope that it will be useful,\n",
    "# but WITHOUT ANY WARRANTY; without even the implied warranty of\n",
    "# MERCHANTABILITY or FITNESS FOR A PARTICULAR PURPOSE.  See the\n",
    "# GNU General Public License for more details.\n",
    "#\n",
    "# You should have received a copy of the GNU General Public License\n",
    "# along with this program.  If not, see <http://www.gnu.org/licenses/>.\n",
    "####\n",
    "\n",
    "# this scripts requires NumPy (numpy.scipy.org) and SciPy (www.scipy.org) to be\n",
    "# installed in a directory that is accessible through PythonPath \n",
    "import sys\n",
    "from numpy import array, reshape, shape, matrix, ones, zeros, sqrt\n",
    "from numpy import argsort, sign, kron, multiply, divide, abs, asarray\n",
    "from scipy import rand\n",
    "from scipy.sparse import csc_matrix, spdiags\n",
    "from scipy.sparse.linalg import eigsh\n",
    "from scipy.linalg import norm, svd, LinAlgError\n",
    "\n",
    "# exception hander for singular value decomposition\n",
    "class SVDError(Exception):\n",
    "    def __init__(self,value):\n",
    "        self.value=value\n",
    "    def __str__(self):\n",
    "        return repr(self.value)\n",
    "\n",
    "\n",
    "# (eigen_val, eigen_vec) = ncut( W, nbEigenValues ):\n",
    "#\n",
    "# This function performs the first step of normalized cut spectral clustering.\n",
    "# The normalized LaPlacian is calculated on the similarity matrix W, and top\n",
    "# nbEigenValues eigenvectors are calculated. The number of eigenvectors\n",
    "# corresponds to the maximum number of classes (K) that will be produced by the\n",
    "# clustering algorithm. \n",
    "#\n",
    "#    W:             symmetric #feature x #feature sparse matrix representing the\n",
    "#                   similarity between voxels, traditionally this matrix should\n",
    "#                   be positive semidefinite, but regularization is employed to\n",
    "#                   allow negative matrix entries (Yu 2001)\n",
    "#    nvEigenValues: number of eigenvectors that should be calculated, this\n",
    "#                   determines the maximum number of clusters (K) that can be\n",
    "#                   derived from the\n",
    "#    result\n",
    "#    eigen_val:     (output) eigenvalues from the eigen decomposition of the\n",
    "#                   LaPlacian of W\n",
    "#    eigen_vec:     (output) eigenvectors from the eign decomposition of the\n",
    "#                   LaPlacian of W\n",
    "#\n",
    "def ncut( W, nbEigenValues ):\n",
    "    # parameters\n",
    "    offset=.5\n",
    "    maxiterations=100\n",
    "    eigsErrorTolerence=1e-6\n",
    "    eps=2.2204e-16\n",
    "\n",
    "    m=shape(W)[1]\n",
    "\n",
    "    # make sure that W is symmetric, this is a computationally expensive\n",
    "    # operation, only use for debugging\n",
    "    # if (W-W.transpose()).sum() != 0:\n",
    "    #    print \"W should be symmetric!\"\n",
    "    #    exit(0)\n",
    "\n",
    "    # degrees and regularization\n",
    "    # S Yu Understanding Popout through Repulsion CVPR 2001\n",
    "    # Allows negative values as well as improves invertability of d for small\n",
    "    # numbers i bet that this is what improves the stability of the eigen\n",
    "    d=abs(W).sum(0)\n",
    "    dr=0.5*(d-W.sum(0))\n",
    "    d=d+offset*2\n",
    "    dr=dr+offset\n",
    "\n",
    "    # calculation of the normalized LaPlacian\n",
    "    W=W+spdiags(dr,[0],m,m,\"csc\")\n",
    "    Dinvsqrt=spdiags((1.0/sqrt(d+eps)),[0],m,m,\"csc\")\n",
    "    P=Dinvsqrt*(W*Dinvsqrt);\n",
    "\n",
    "    # perform the eigen decomposition\n",
    "    eigen_val,eigen_vec=eigsh(P,nbEigenValues,maxiter=maxiterations,\\\n",
    "        tol=eigsErrorTolerence,which='LA')\n",
    "\n",
    "    # sort the eigen_vals so that the first\n",
    "    # is the largest\n",
    "    i=argsort(-eigen_val)\n",
    "    eigen_val=eigen_val[i]\n",
    "    eigen_vec=eigen_vec[:,i]\n",
    "\n",
    "    # normalize the returned eigenvectors\n",
    "    eigen_vec=Dinvsqrt*matrix(eigen_vec)\n",
    "    norm_ones=norm(ones((m,1)))\n",
    "    for i in range(0,shape(eigen_vec)[1]):\n",
    "        eigen_vec[:,i]=(eigen_vec[:,i] / norm(eigen_vec[:,i]))*norm_ones\n",
    "        if eigen_vec[0,i] != 0:\n",
    "            eigen_vec[:,i] = -1 * eigen_vec[:,i] * sign( eigen_vec[0,i] )\n",
    "\n",
    "    return(eigen_val, eigen_vec)\n",
    "\n",
    "# eigenvec_discrete=discretisation( eigen_vec ):\n",
    "#\n",
    "# This function performs the second step of normalized cut clustering which\n",
    "# assigns features to clusters based on the eigen vectors from the LaPlacian of\n",
    "# a similarity matrix. There are a few different ways to perform this task. Shi\n",
    "# and Malik (2000) iteratively bisect the features based on the positive and\n",
    "# negative loadings of the eigenvectors. Ng, Jordan and Weiss (2001) proposed to\n",
    "# perform K-means clustering on the rows of the eigenvectors. The method\n",
    "# implemented here was proposed by Yu and Shi (2003) and it finds a discrete\n",
    "# solution by iteratively rotating a binaised set of vectors until they are\n",
    "# maximally similar to the the eigenvectors (for more information, the full\n",
    "# citation is at the top of this file). An advantage of this method over K-means\n",
    "# is that it is _more_ deterministic, i.e. you should get very similar results\n",
    "# every time you run the algorithm on the same data.\n",
    "#\n",
    "# The number of clusters that the features are clustered into is determined by\n",
    "# the number of eignevectors (number of columns) in the input array eigen_vec. A\n",
    "# caveat of this method, is that number of resulting clusters is bound by the\n",
    "# number of eignevectors, but it may contain less.\n",
    "#\n",
    "#    eigen_vec:          Eigenvectors of the normalized LaPlacian calculated\n",
    "#                        from the similarity matrix for the corresponding\n",
    "#                        clustering problem\n",
    "#    eigen_vec_discrete: (output) discretised eigenvectors, i.e. vectors of 0\n",
    "#                        and 1 which indicate whether or not a feature belongs\n",
    "#                        to the cluster defined by the eigen vector.  I.E. a one\n",
    "#                        in the 10th row of the 4th eigenvector (column) means\n",
    "#                        that feature 10 belongs to cluster #4.\n",
    "# \n",
    "def discretisation( eigen_vec ):\n",
    "    eps=2.2204e-16\n",
    "\n",
    "    # normalize the eigenvectors\n",
    "    [n,k]=shape(eigen_vec)\n",
    "    vm=kron(ones((1,k)),sqrt(multiply(eigen_vec,eigen_vec).sum(1)))\n",
    "    eigen_vec=divide(eigen_vec,vm)\n",
    "\n",
    "    svd_restarts=0\n",
    "    exitLoop=0\n",
    "\n",
    "    ### if there is an exception we try to randomize and rerun SVD again\n",
    "        ### do this 30 times\n",
    "    while (svd_restarts < 30) and (exitLoop==0):\n",
    "\n",
    "        # initialize algorithm with a random ordering of eigenvectors\n",
    "        c=zeros((n,1))\n",
    "        R=matrix(zeros((k,k)))\n",
    "        R[:,0]=eigen_vec[int(rand(1)*(n-1)),:].transpose()\n",
    "\n",
    "        for j in range(1,k):\n",
    "            c=c+abs(eigen_vec*R[:,j-1])\n",
    "            R[:,j]=eigen_vec[c.argmin(),:].transpose()\n",
    "\n",
    "\n",
    "        lastObjectiveValue=0\n",
    "        nbIterationsDiscretisation=0\n",
    "        nbIterationsDiscretisationMax=20\n",
    "\n",
    "        # iteratively rotate the discretised eigenvectors until they\n",
    "        # are maximally similar to the input eignevectors, this \n",
    "        # converges when the differences between the current solution\n",
    "        # and the previous solution differs by less than eps or we\n",
    "        # we have reached the maximum number of itarations\n",
    "        while exitLoop == 0:\n",
    "            nbIterationsDiscretisation = nbIterationsDiscretisation + 1\n",
    "\n",
    "            # rotate the original eigen_vectors\n",
    "            tDiscrete=eigen_vec*R\n",
    "\n",
    "            # discretise the result by setting the max of each row=1 and\n",
    "            # other values to 0\n",
    "            j=reshape(asarray(tDiscrete.argmax(1)),n)\n",
    "            eigenvec_discrete=csc_matrix((ones(len(j)),(range(0,n), \\\n",
    "                array(j))),shape=(n,k))\n",
    "\n",
    "            # calculate a rotation to bring the discrete eigenvectors cluster to\n",
    "            # the original eigenvectors\n",
    "            tSVD=eigenvec_discrete.transpose()*eigen_vec\n",
    "            # catch a SVD convergence error and restart\n",
    "            try:\n",
    "                U, S, Vh = svd(tSVD)\n",
    "            except LinAlgError:\n",
    "                # catch exception and go back to the beginning of the loop\n",
    "                print >> sys.stderr, \\\n",
    "                    \"SVD did not converge, randomizing and trying again\"\n",
    "                break\n",
    "\n",
    "            # test for convergence\n",
    "            NcutValue=2*(n-S.sum())\n",
    "            if((abs(NcutValue-lastObjectiveValue) < eps ) or \\\n",
    "                      ( nbIterationsDiscretisation > \\\n",
    "                        nbIterationsDiscretisationMax )):\n",
    "                exitLoop=1\n",
    "            else:\n",
    "                # otherwise calculate rotation and continue\n",
    "                lastObjectiveValue=NcutValue\n",
    "                R=matrix(Vh).transpose()*matrix(U).transpose()\n",
    "\n",
    "    if exitLoop == 0:\n",
    "        raise SVDError(\"SVD did not converge after 30 retries\")\n",
    "    else:\n",
    "        return(eigenvec_discrete)"
   ]
  },
  {
   "cell_type": "code",
   "execution_count": 512,
   "metadata": {},
   "outputs": [
    {
     "data": {
      "text/plain": [
       "0.34"
      ]
     },
     "execution_count": 512,
     "metadata": {},
     "output_type": "execute_result"
    }
   ],
   "source": [
    "X, y = make_blobs()\n",
    "pred = ncut(squareform(pdist(X, similarity_func)), 3)\n",
    "predictions = np.array([])\n",
    "for i in range(pred[1].shape[0]):\n",
    "    predictions = np.append(predictions, np.argmax(pred[1][i,:]))\n",
    "accuracy_score(y, predictions)"
   ]
  },
  {
   "cell_type": "code",
   "execution_count": 481,
   "metadata": {},
   "outputs": [],
   "source": [
    "def similarity_func(u, v):\n",
    "    return np.exp(- euclidean(u,v) ** 2 / 2)"
   ]
  },
  {
   "cell_type": "code",
   "execution_count": 492,
   "metadata": {},
   "outputs": [
    {
     "name": "stdout",
     "output_type": "stream",
     "text": [
      "166.582288980484\n"
     ]
    },
    {
     "data": {
      "text/plain": [
       "0.11096856959589481"
      ]
     },
     "execution_count": 492,
     "metadata": {},
     "output_type": "execute_result"
    }
   ],
   "source": [
    "data = pd.read_csv(\"C:/Users/Yuliya/Downloads/isolet5.data\", header=None)\n",
    "X = data.iloc[:, :-1]\n",
    "y = data.iloc[:, -1]\n",
    "start = time.time()\n",
    "pred = ncut(squareform(pdist(X, similarity_func)), 26)\n",
    "print(time.time() - start)\n",
    "\n",
    "predictions = np.array([])\n",
    "for i in range(pred[1].shape[0]):\n",
    "    predictions = np.append(predictions, np.argmax(pred[1][i,:]))\n",
    "accuracy(predictions, y)"
   ]
  },
  {
   "cell_type": "code",
   "execution_count": 493,
   "metadata": {},
   "outputs": [
    {
     "name": "stdout",
     "output_type": "stream",
     "text": [
      "188.80339741706848\n"
     ]
    },
    {
     "data": {
      "text/plain": [
       "0.06991661321359846"
      ]
     },
     "execution_count": 493,
     "metadata": {},
     "output_type": "execute_result"
    }
   ],
   "source": [
    "start = time.time()\n",
    "pred = ncut(squareform(pdist(X, similarity_func)), 13)\n",
    "print(time.time() - start)\n",
    "\n",
    "predictions = np.array([])\n",
    "for i in range(pred[1].shape[0]):\n",
    "    predictions = np.append(predictions, np.argmax(pred[1][i,:]))\n",
    "accuracy(predictions, y)"
   ]
  },
  {
   "cell_type": "code",
   "execution_count": 494,
   "metadata": {},
   "outputs": [
    {
     "name": "stdout",
     "output_type": "stream",
     "text": [
      "190.41396379470825\n"
     ]
    },
    {
     "data": {
      "text/plain": [
       "0.09364977549711354"
      ]
     },
     "execution_count": 494,
     "metadata": {},
     "output_type": "execute_result"
    }
   ],
   "source": [
    "start = time.time()\n",
    "pred = ncut(squareform(pdist(X, similarity_func)), 30)\n",
    "print(time.time() - start)\n",
    "\n",
    "predictions = np.array([])\n",
    "for i in range(pred[1].shape[0]):\n",
    "    predictions = np.append(predictions, np.argmax(pred[1][i,:]))\n",
    "accuracy(predictions, y)"
   ]
  },
  {
   "cell_type": "code",
   "execution_count": 495,
   "metadata": {},
   "outputs": [
    {
     "name": "stdout",
     "output_type": "stream",
     "text": [
      "349.56039929389954\n"
     ]
    },
    {
     "data": {
      "text/plain": [
       "0.16536796536796536"
      ]
     },
     "execution_count": 495,
     "metadata": {},
     "output_type": "execute_result"
    }
   ],
   "source": [
    "segments = pd.read_csv(\"C:/Users/Yuliya/Downloads/segments.csv\")\n",
    "y = np.array(segments[\"class\"])\n",
    "X = segments.drop([\"class\"], axis=1)\n",
    "X = np.array(X)\n",
    "start = time.time()\n",
    "pred = ncut(squareform(pdist(X, similarity_func)), 7)\n",
    "print(time.time() - start)\n",
    "\n",
    "predictions = np.array([])\n",
    "for i in range(pred[1].shape[0]):\n",
    "    predictions = np.append(predictions, np.argmax(pred[1][i,:]))\n",
    "accuracy(predictions, y)"
   ]
  },
  {
   "cell_type": "code",
   "execution_count": 496,
   "metadata": {},
   "outputs": [
    {
     "name": "stdout",
     "output_type": "stream",
     "text": [
      "351.7164535522461\n"
     ]
    },
    {
     "data": {
      "text/plain": [
       "0.15887445887445886"
      ]
     },
     "execution_count": 496,
     "metadata": {},
     "output_type": "execute_result"
    }
   ],
   "source": [
    "start = time.time()\n",
    "pred = ncut(squareform(pdist(X, similarity_func)), 3)\n",
    "print(time.time() - start)\n",
    "\n",
    "predictions = np.array([])\n",
    "for i in range(pred[1].shape[0]):\n",
    "    predictions = np.append(predictions, np.argmax(pred[1][i,:]))\n",
    "accuracy(predictions, y)"
   ]
  },
  {
   "cell_type": "code",
   "execution_count": 497,
   "metadata": {},
   "outputs": [
    {
     "name": "stdout",
     "output_type": "stream",
     "text": [
      "381.71722507476807\n"
     ]
    },
    {
     "data": {
      "text/plain": [
       "0.1619047619047619"
      ]
     },
     "execution_count": 497,
     "metadata": {},
     "output_type": "execute_result"
    }
   ],
   "source": [
    "start = time.time()\n",
    "pred = ncut(squareform(pdist(X, similarity_func)), 9)\n",
    "print(time.time() - start)\n",
    "\n",
    "predictions = np.array([])\n",
    "for i in range(pred[1].shape[0]):\n",
    "    predictions = np.append(predictions, np.argmax(pred[1][i,:]))\n",
    "accuracy(predictions, y)"
   ]
  },
  {
   "cell_type": "code",
   "execution_count": 487,
   "metadata": {},
   "outputs": [],
   "source": [
    "glass = pd.read_csv(\"C:/Users/Yuliya/Downloads/glass_processed.csv\")\n",
    "y = glass[\"target\"]\n",
    "X = glass.iloc[:, :-1]"
   ]
  },
  {
   "cell_type": "code",
   "execution_count": 489,
   "metadata": {},
   "outputs": [
    {
     "name": "stdout",
     "output_type": "stream",
     "text": [
      "2.824214220046997\n"
     ]
    },
    {
     "data": {
      "text/plain": [
       "0.3598130841121495"
      ]
     },
     "execution_count": 489,
     "metadata": {},
     "output_type": "execute_result"
    }
   ],
   "source": [
    "start = time.time()\n",
    "pred = ncut(squareform(pdist(X, similarity_func)), 6)\n",
    "print(time.time() - start)\n",
    "\n",
    "predictions = np.array([])\n",
    "for i in range(pred[1].shape[0]):\n",
    "    predictions = np.append(predictions, np.argmax(pred[1][i,:]))\n",
    "accuracy(predictions, y)"
   ]
  },
  {
   "cell_type": "code",
   "execution_count": 490,
   "metadata": {},
   "outputs": [
    {
     "name": "stdout",
     "output_type": "stream",
     "text": [
      "3.0472254753112793\n"
     ]
    },
    {
     "data": {
      "text/plain": [
       "0.4392523364485981"
      ]
     },
     "execution_count": 490,
     "metadata": {},
     "output_type": "execute_result"
    }
   ],
   "source": [
    "start = time.time()\n",
    "pred = ncut(squareform(pdist(X, similarity_func)), 9)\n",
    "print(time.time() - start)\n",
    "\n",
    "predictions = np.array([])\n",
    "for i in range(pred[1].shape[0]):\n",
    "    predictions = np.append(predictions, np.argmax(pred[1][i,:]))\n",
    "accuracy(predictions, y)"
   ]
  },
  {
   "cell_type": "code",
   "execution_count": 491,
   "metadata": {},
   "outputs": [
    {
     "name": "stdout",
     "output_type": "stream",
     "text": [
      "3.0262415409088135\n"
     ]
    },
    {
     "data": {
      "text/plain": [
       "0.37850467289719625"
      ]
     },
     "execution_count": 491,
     "metadata": {},
     "output_type": "execute_result"
    }
   ],
   "source": [
    "start = time.time()\n",
    "pred = ncut(squareform(pdist(X, similarity_func)), 3)\n",
    "print(time.time() - start)\n",
    "\n",
    "predictions = np.array([])\n",
    "for i in range(pred[1].shape[0]):\n",
    "    predictions = np.append(predictions, np.argmax(pred[1][i,:]))\n",
    "accuracy(predictions, y)"
   ]
  },
  {
   "cell_type": "code",
   "execution_count": 498,
   "metadata": {},
   "outputs": [],
   "source": [
    "mnist=pd.read_csv('https://pkgstore.datahub.io/machine-learning/mnist_784/mnist_784_csv/data/89c44af4c515d5a3c132bc3cc298a6bd/mnist_784_csv.csv')\n",
    "X_mnist=mnist.drop('class',axis=1)\n",
    "y_mnist=mnist['class']\n",
    "X_mnist=X_mnist[:6000]\n",
    "y_mnist=y_mnist[:6000]"
   ]
  },
  {
   "cell_type": "code",
   "execution_count": 499,
   "metadata": {},
   "outputs": [
    {
     "name": "stdout",
     "output_type": "stream",
     "text": [
      "3668.404913663864\n"
     ]
    },
    {
     "ename": "IndexError",
     "evalue": "boolean index did not match indexed array along dimension 0; dimension is 2310 but corresponding boolean dimension is 6000",
     "output_type": "error",
     "traceback": [
      "\u001b[1;31m---------------------------------------------------------------------------\u001b[0m",
      "\u001b[1;31mIndexError\u001b[0m                                Traceback (most recent call last)",
      "\u001b[1;32m<ipython-input-499-b120fb946b4d>\u001b[0m in \u001b[0;36m<module>\u001b[1;34m\u001b[0m\n\u001b[0;32m      6\u001b[0m \u001b[1;32mfor\u001b[0m \u001b[0mi\u001b[0m \u001b[1;32min\u001b[0m \u001b[0mrange\u001b[0m\u001b[1;33m(\u001b[0m\u001b[0mpred\u001b[0m\u001b[1;33m[\u001b[0m\u001b[1;36m1\u001b[0m\u001b[1;33m]\u001b[0m\u001b[1;33m.\u001b[0m\u001b[0mshape\u001b[0m\u001b[1;33m[\u001b[0m\u001b[1;36m0\u001b[0m\u001b[1;33m]\u001b[0m\u001b[1;33m)\u001b[0m\u001b[1;33m:\u001b[0m\u001b[1;33m\u001b[0m\u001b[1;33m\u001b[0m\u001b[0m\n\u001b[0;32m      7\u001b[0m     \u001b[0mpredictions\u001b[0m \u001b[1;33m=\u001b[0m \u001b[0mnp\u001b[0m\u001b[1;33m.\u001b[0m\u001b[0mappend\u001b[0m\u001b[1;33m(\u001b[0m\u001b[0mpredictions\u001b[0m\u001b[1;33m,\u001b[0m \u001b[0mnp\u001b[0m\u001b[1;33m.\u001b[0m\u001b[0margmax\u001b[0m\u001b[1;33m(\u001b[0m\u001b[0mpred\u001b[0m\u001b[1;33m[\u001b[0m\u001b[1;36m1\u001b[0m\u001b[1;33m]\u001b[0m\u001b[1;33m[\u001b[0m\u001b[0mi\u001b[0m\u001b[1;33m,\u001b[0m\u001b[1;33m:\u001b[0m\u001b[1;33m]\u001b[0m\u001b[1;33m)\u001b[0m\u001b[1;33m)\u001b[0m\u001b[1;33m\u001b[0m\u001b[1;33m\u001b[0m\u001b[0m\n\u001b[1;32m----> 8\u001b[1;33m \u001b[0maccuracy\u001b[0m\u001b[1;33m(\u001b[0m\u001b[0mpredictions\u001b[0m\u001b[1;33m,\u001b[0m \u001b[0my\u001b[0m\u001b[1;33m)\u001b[0m\u001b[1;33m\u001b[0m\u001b[1;33m\u001b[0m\u001b[0m\n\u001b[0m",
      "\u001b[1;32m<ipython-input-475-0a661d39b88f>\u001b[0m in \u001b[0;36maccuracy\u001b[1;34m(clusters_labels, y_true)\u001b[0m\n\u001b[0;32m     16\u001b[0m \u001b[1;33m\u001b[0m\u001b[0m\n\u001b[0;32m     17\u001b[0m         \u001b[0mmask_cluster\u001b[0m\u001b[1;33m=\u001b[0m\u001b[0mclusters_labels\u001b[0m\u001b[1;33m==\u001b[0m\u001b[0mcluster\u001b[0m\u001b[1;33m\u001b[0m\u001b[1;33m\u001b[0m\u001b[0m\n\u001b[1;32m---> 18\u001b[1;33m         \u001b[0mmean_pred\u001b[0m\u001b[1;33m=\u001b[0m\u001b[0mnp\u001b[0m\u001b[1;33m.\u001b[0m\u001b[0mbincount\u001b[0m\u001b[1;33m(\u001b[0m\u001b[0my_true\u001b[0m\u001b[1;33m[\u001b[0m\u001b[0mmask_cluster\u001b[0m\u001b[1;33m]\u001b[0m\u001b[1;33m)\u001b[0m\u001b[1;33m.\u001b[0m\u001b[0margmax\u001b[0m\u001b[1;33m(\u001b[0m\u001b[1;33m)\u001b[0m\u001b[1;33m\u001b[0m\u001b[1;33m\u001b[0m\u001b[0m\n\u001b[0m\u001b[0;32m     19\u001b[0m         \u001b[0my_pred\u001b[0m\u001b[1;33m[\u001b[0m\u001b[0mmask_cluster\u001b[0m\u001b[1;33m]\u001b[0m\u001b[1;33m=\u001b[0m\u001b[0mmean_pred\u001b[0m\u001b[1;33m\u001b[0m\u001b[1;33m\u001b[0m\u001b[0m\n\u001b[0;32m     20\u001b[0m     \u001b[0maccur\u001b[0m\u001b[1;33m=\u001b[0m\u001b[0maccuracy_score\u001b[0m\u001b[1;33m(\u001b[0m\u001b[0my_true\u001b[0m\u001b[1;33m,\u001b[0m \u001b[0my_pred\u001b[0m\u001b[1;33m)\u001b[0m\u001b[1;33m\u001b[0m\u001b[1;33m\u001b[0m\u001b[0m\n",
      "\u001b[1;31mIndexError\u001b[0m: boolean index did not match indexed array along dimension 0; dimension is 2310 but corresponding boolean dimension is 6000"
     ]
    }
   ],
   "source": [
    "start = time.time()\n",
    "pred = ncut(squareform(pdist(X_mnist, similarity_func)), 10)\n",
    "print(time.time() - start)\n",
    "\n",
    "predictions = np.array([])\n",
    "for i in range(pred[1].shape[0]):\n",
    "    predictions = np.append(predictions, np.argmax(pred[1][i,:]))"
   ]
  },
  {
   "cell_type": "markdown",
   "metadata": {},
   "source": [
    "I have forgot to change inputs of the \"accuracy\" function, therefore it is run below:"
   ]
  },
  {
   "cell_type": "code",
   "execution_count": 507,
   "metadata": {},
   "outputs": [
    {
     "data": {
      "text/plain": [
       "0.122"
      ]
     },
     "execution_count": 507,
     "metadata": {},
     "output_type": "execute_result"
    }
   ],
   "source": [
    "accuracy(predictions, y_mnist)"
   ]
  }
 ],
 "metadata": {
  "kernelspec": {
   "display_name": "Python 3",
   "language": "python",
   "name": "python3"
  },
  "language_info": {
   "codemirror_mode": {
    "name": "ipython",
    "version": 3
   },
   "file_extension": ".py",
   "mimetype": "text/x-python",
   "name": "python",
   "nbconvert_exporter": "python",
   "pygments_lexer": "ipython3",
   "version": "3.8.3"
  }
 },
 "nbformat": 4,
 "nbformat_minor": 4
}
