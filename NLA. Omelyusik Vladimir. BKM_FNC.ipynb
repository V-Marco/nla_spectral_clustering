{
 "cells": [
  {
   "cell_type": "markdown",
   "metadata": {},
   "source": [
    "## BKM and FNC Implementation\n",
    "\n",
    "### Omelyusik Vladimir\n",
    "\n",
    "### Spectral Economists Team"
   ]
  },
  {
   "cell_type": "markdown",
   "metadata": {},
   "source": [
    "#### Imports\n",
    "---"
   ]
  },
  {
   "cell_type": "code",
   "execution_count": 305,
   "metadata": {},
   "outputs": [],
   "source": [
    "import numpy as np\n",
    "import matplotlib.pyplot as plt\n",
    "from scipy.spatial import distance\n",
    "from scipy.linalg import sqrtm\n",
    "import pandas as pd\n",
    "from sklearn.datasets import make_blobs\n",
    "np.random.seed(123)\n",
    "from sklearn.metrics import accuracy_score\n",
    "import time\n",
    "from sklearn.cluster import KMeans\n",
    "from sklearn.metrics import adjusted_rand_score"
   ]
  },
  {
   "cell_type": "markdown",
   "metadata": {},
   "source": [
    "#### Implementation based on article\n",
    "---"
   ]
  },
  {
   "cell_type": "code",
   "execution_count": 306,
   "metadata": {},
   "outputs": [],
   "source": [
    "# https://stackoverflow.com/questions/20295046/numpy-change-max-in-each-row-to-1-all-other-numbers-to-0\n",
    "def BKM(X, gamma, c, n_steps):\n",
    "    '''\n",
    "    Implementation of Balanced K-Means (Algorithm 2).\n",
    "    \n",
    "    Attributes:\n",
    "    ---\n",
    "    X: ndarray\n",
    "        Matrix (dxn), d is the number of features, n is the number of observations.\n",
    "    gamma: float\n",
    "        Regularization parameter.\n",
    "    c: int\n",
    "        Number of clusters.\n",
    "    n_steps: int\n",
    "        Number of iterations.\n",
    "    \n",
    "    Returns:\n",
    "    ---\n",
    "    F: ndarray\n",
    "        Matrix (nxc) with predicted clusters.\n",
    "    '''\n",
    "    n = X.shape[1]\n",
    "    A = np.random.normal(size=(n, c))\n",
    "    F = np.zeros_like(A)\n",
    "    F[np.arange(len(A)), A.argmax(1)] = 1\n",
    "    F[:c, :c] = np.identity(c)\n",
    "    \n",
    "    for i in range(n_steps):\n",
    "        H = X @ F @ np.linalg.pinv(F.T @ F)\n",
    "        F_new = F.copy()\n",
    "        j = 0\n",
    "        while (np.linalg.norm(F_new - F) == 0) & (j < 10):\n",
    "            G = (n * gamma * np.identity(n) - gamma * np.ones(n).reshape(-1, 1) @ (np.ones(n).reshape(-1, 1).T)) @ F\n",
    "            Q = G + X.T @ H - 1/2 * np.ones(n).reshape(-1, 1) @ (np.ones(X.shape[0]).reshape(-1, 1).T) @ (H * H)\n",
    "            F_new = np.zeros_like(F_new)\n",
    "            F_new[np.arange(len(Q)), Q.argmax(1)] = 1\n",
    "            j += 1\n",
    "        F = F_new.copy()\n",
    "    \n",
    "    return F"
   ]
  },
  {
   "cell_type": "code",
   "execution_count": 307,
   "metadata": {},
   "outputs": [],
   "source": [
    "# https://stackoverflow.com/questions/48312205/find-the-k-nearest-neighbours-of-a-point-in-3d-space-with-python-numpy\n",
    "\n",
    "def construct_similarity_matrix(X, W, k):\n",
    "    '''\n",
    "    Calculates the similarity matrix.\n",
    "    \n",
    "    Attributes:\n",
    "    ---\n",
    "    X: ndarray\n",
    "        Matrix (dxn), d is the number of features, n is the number of observations.\n",
    "    W: ndarray\n",
    "        Matrix XF inv(F'F) where F is cluster indicator matrix\n",
    "    k: int\n",
    "        Number of neighbours.\n",
    "    \n",
    "    Returns:\n",
    "    ---\n",
    "    B: ndarray\n",
    "        Similarity matrix (nxm).\n",
    "    '''\n",
    "    B = np.zeros((X.shape[1], W.shape[1]))\n",
    "    D = distance.squareform(distance.pdist(X.T)) # Matrix of distances n x n \n",
    "    closest = np.argsort(D, axis=1)\n",
    "    closest_inds = closest[:, 1 : k+2] # Indices of rows closest to row i, n x k\n",
    "    \n",
    "    for i in range(B.shape[0]):\n",
    "        for j in range(B.shape[1]):\n",
    "            if j in closest_inds[i, :-1]:\n",
    "                B[i, j] = (((D[i, closest_inds[i, -1]]) ** 2) - np.linalg.norm(X[:, i] - W[:, j]) ** 2) /\\\n",
    "                (k * ((D[i, closest_inds[i, -1]]) ** 2) - np.sum((D[i, closest_inds[i, :-1]]) ** 2))\n",
    "            else:\n",
    "                B[i, j] = 0\n",
    "    \n",
    "    return B"
   ]
  },
  {
   "cell_type": "code",
   "execution_count": 308,
   "metadata": {},
   "outputs": [],
   "source": [
    "def FNC(X, k, m, gamma, n_steps):\n",
    "    '''\n",
    "    Implementation of Fast Normalized Cut (Algorithm 3) from the article.\n",
    "    \n",
    "    Attributes:\n",
    "    ---\n",
    "    X: ndarray\n",
    "        Matrix (dxn), d is the number of features, n is the number of observations.\n",
    "    k: int\n",
    "        Number of neighbours.\n",
    "    m: int\n",
    "        Number of clusters for BKM.\n",
    "    gamma: float\n",
    "        Regularization parameter.\n",
    "    n_steps: int\n",
    "        Number of iterations.\n",
    "    \n",
    "    Returns:\n",
    "    ---\n",
    "    Y: ndarray\n",
    "        Matrix (nxc) with predicted clusters.\n",
    "    '''\n",
    "    n = X.shape[1]\n",
    "    clusters = BKM(X, gamma, m, 100)\n",
    "    \n",
    "    W = X @ clusters @ np.linalg.pinv(clusters.T @ clusters)\n",
    "    B = construct_similarity_matrix(X, W, k)\n",
    "    delta = np.diag(np.sum(B, axis = 0).tolist())\n",
    "    PPT = B @ np.linalg.pinv(delta) @ B.T\n",
    "    \n",
    "    A = np.random.normal(size=(n, m))\n",
    "    Y = np.zeros_like(A)\n",
    "    Y[np.arange(len(A)), A.argmax(1)] = 1\n",
    "    \n",
    "    for k in range(n_steps):\n",
    "        G = PPT @ Y @ np.linalg.pinv(sqrtm(Y.T @ Y))\n",
    "        s = np.zeros_like(Y)\n",
    "        for i in range(s.shape[0]):\n",
    "            for l in range(s.shape[1]):\n",
    "                s[i, l] = ((Y[:, l].T @ G[:, l] + G[i, l] * (1 - Y[i, l])) /\\\n",
    "                np.sqrt(Y[:, l].T @ Y[:, l] + (1 - Y[i, l]))) - ((Y[:, l].T @ G[:, l] - Y[i, l] * G[i, l])/\\\n",
    "                np.sqrt(Y[:, l].T @ Y[:, l] - Y[i, l]))\n",
    "        Y_new = np.zeros_like(Y)\n",
    "        Y_new[np.arange(len(s)), s.argmax(1)] = 1\n",
    "        Y = Y_new.copy()\n",
    "    \n",
    "    return Y"
   ]
  },
  {
   "cell_type": "code",
   "execution_count": 322,
   "metadata": {},
   "outputs": [],
   "source": [
    "def accuracy(y_true, clusters_labels):\n",
    "    clusters=np.unique(clusters_labels)\n",
    "    y_pred=np.empty(len(y_true))\n",
    "    \n",
    "    for cluster in clusters:\n",
    "      \n",
    "        mask_cluster=clusters_labels==cluster\n",
    "        mean_pred=np.bincount(y_true[mask_cluster]).argmax()\n",
    "        y_pred[mask_cluster]=mean_pred\n",
    "    accur=accuracy_score(y_true, y_pred)\n",
    "    return accur"
   ]
  },
  {
   "cell_type": "markdown",
   "metadata": {},
   "source": [
    "#### Experiments\n",
    "---"
   ]
  },
  {
   "cell_type": "markdown",
   "metadata": {},
   "source": [
    "1. `sklearn` blobs\n",
    "---"
   ]
  },
  {
   "cell_type": "code",
   "execution_count": 319,
   "metadata": {},
   "outputs": [],
   "source": [
    "blobs = make_blobs()\n",
    "X = blobs[0]\n",
    "y = blobs[1]"
   ]
  },
  {
   "cell_type": "code",
   "execution_count": 325,
   "metadata": {
    "scrolled": true
   },
   "outputs": [
    {
     "name": "stdout",
     "output_type": "stream",
     "text": [
      "BKM time: 0.39194250106811523\n"
     ]
    },
    {
     "data": {
      "text/plain": [
       "Text(0.5, 1.0, 'BKM: Blobs Predictions')"
      ]
     },
     "execution_count": 325,
     "metadata": {},
     "output_type": "execute_result"
    },
    {
     "data": {
      "image/png": "[encoded data removed]",
      "text/plain": [
       "<Figure size 720x288 with 2 Axes>"
      ]
     },
     "metadata": {
      "needs_background": "light"
     },
     "output_type": "display_data"
    }
   ],
   "source": [
    "start = time.time()\n",
    "pred = BKM(X.T, 0.1, 3, 100)\n",
    "print('BKM time:', time.time() - start)\n",
    "fig, ax = plt.subplots(1, 2, figsize = (10, 4))\n",
    "ax[0].scatter(X[:, 0], X[:, 1], c = y)\n",
    "ax[0].set_title('BKM: Blobs True')\n",
    "ax[1].scatter(X[:, 0], X[:, 1], c = np.argmax(pred, axis = 1))\n",
    "ax[1].set_title('BKM: Blobs Predictions')"
   ]
  },
  {
   "cell_type": "code",
   "execution_count": 326,
   "metadata": {},
   "outputs": [
    {
     "data": {
      "text/plain": [
       "1.0"
      ]
     },
     "execution_count": 326,
     "metadata": {},
     "output_type": "execute_result"
    }
   ],
   "source": [
    "accuracy(y, np.argmax(pred, axis = 1))"
   ]
  },
  {
   "cell_type": "code",
   "execution_count": 333,
   "metadata": {
    "scrolled": false
   },
   "outputs": [
    {
     "name": "stdout",
     "output_type": "stream",
     "text": [
      "FNC time: 2.794888973236084\n"
     ]
    }
   ],
   "source": [
    "start = time.time()\n",
    "pred = FNC(X.T, 2000, 3, 1e-2, 300)\n",
    "print('FNC time:', time.time() - start)"
   ]
  },
  {
   "cell_type": "code",
   "execution_count": 335,
   "metadata": {},
   "outputs": [
    {
     "name": "stderr",
     "output_type": "stream",
     "text": [
      "<ipython-input-308-248496089200>:41: RuntimeWarning: invalid value encountered in double_scalars\n",
      "  np.sqrt(Y[:, l].T @ Y[:, l] + (1 - Y[i, l]))) - ((Y[:, l].T @ G[:, l] - Y[i, l] * G[i, l])/\\\n"
     ]
    }
   ],
   "source": [
    "pred2 = FNC(X.T, 50, 3, 1e-2, 300)"
   ]
  },
  {
   "cell_type": "code",
   "execution_count": 339,
   "metadata": {},
   "outputs": [
    {
     "data": {
      "text/plain": [
       "0.44"
      ]
     },
     "execution_count": 339,
     "metadata": {},
     "output_type": "execute_result"
    }
   ],
   "source": [
    "accuracy(y, np.argmax(pred2, axis = 1))"
   ]
  },
  {
   "cell_type": "code",
   "execution_count": 340,
   "metadata": {},
   "outputs": [
    {
     "data": {
      "text/plain": [
       "Text(0.5, 0, 'accuracy = 0.44')"
      ]
     },
     "execution_count": 340,
     "metadata": {},
     "output_type": "execute_result"
    },
    {
     "data": {
      "image/png": "[encoded data removed]",
      "text/plain": [
       "<Figure size 1080x288 with 3 Axes>"
      ]
     },
     "metadata": {
      "needs_background": "light"
     },
     "output_type": "display_data"
    }
   ],
   "source": [
    "fig, ax = plt.subplots(1, 3, figsize = (15, 4))\n",
    "ax[0].scatter(X[:, 0], X[:, 1], c = y)\n",
    "ax[0].set_title('FNC: Blobs True')\n",
    "ax[1].scatter(X[:, 0], X[:, 1], c = np.argmax(pred, axis = 1))\n",
    "ax[1].set_title('FNC: Blobs Predictions, k = 2000')\n",
    "ax[1].set_xlabel('accuracy = 0.99')\n",
    "ax[2].scatter(X[:, 0], X[:, 1], c = np.argmax(pred2, axis = 1))\n",
    "ax[2].set_title('FNC: Blobs Predictions, k = 50')\n",
    "ax[2].set_xlabel('accuracy = 0.44')"
   ]
  },
  {
   "cell_type": "code",
   "execution_count": 332,
   "metadata": {},
   "outputs": [
    {
     "data": {
      "text/plain": [
       "0.99"
      ]
     },
     "execution_count": 332,
     "metadata": {},
     "output_type": "execute_result"
    }
   ],
   "source": [
    "accuracy(y, np.argmax(pred, axis = 1))"
   ]
  },
  {
   "cell_type": "markdown",
   "metadata": {},
   "source": [
    "2. `isolet5`\n",
    "---"
   ]
  },
  {
   "cell_type": "code",
   "execution_count": 375,
   "metadata": {},
   "outputs": [],
   "source": [
    "data = pd.read_csv('Data/isolet5.data')"
   ]
  },
  {
   "cell_type": "code",
   "execution_count": 376,
   "metadata": {},
   "outputs": [],
   "source": [
    "X = data.iloc[:, :-1]\n",
    "y = data.iloc[:, -1]"
   ]
  },
  {
   "cell_type": "code",
   "execution_count": 343,
   "metadata": {},
   "outputs": [
    {
     "name": "stdout",
     "output_type": "stream",
     "text": [
      "82.86659622192383\n"
     ]
    }
   ],
   "source": [
    "start = time.time()\n",
    "pred = BKM(np.array(X).T, 0.1, 26, 100)\n",
    "print(time.time() - start)"
   ]
  },
  {
   "cell_type": "code",
   "execution_count": 344,
   "metadata": {},
   "outputs": [
    {
     "name": "stdout",
     "output_type": "stream",
     "text": [
      "BKM accuracy:\n"
     ]
    },
    {
     "data": {
      "text/plain": [
       "0.09563543003851091"
      ]
     },
     "execution_count": 344,
     "metadata": {},
     "output_type": "execute_result"
    }
   ],
   "source": [
    "print('BKM accuracy:')\n",
    "accuracy(y, np.argmax(pred, axis = 1))"
   ]
  },
  {
   "cell_type": "code",
   "execution_count": 345,
   "metadata": {},
   "outputs": [
    {
     "name": "stderr",
     "output_type": "stream",
     "text": [
      "<ipython-input-308-248496089200>:41: RuntimeWarning: invalid value encountered in double_scalars\n",
      "  np.sqrt(Y[:, l].T @ Y[:, l] + (1 - Y[i, l]))) - ((Y[:, l].T @ G[:, l] - Y[i, l] * G[i, l])/\\\n"
     ]
    },
    {
     "name": "stdout",
     "output_type": "stream",
     "text": [
      "244.41758942604065\n"
     ]
    }
   ],
   "source": [
    "start = time.time()\n",
    "pred = FNC(np.array(X.T), 20, 26, 0.1, 100)\n",
    "print(time.time() - start)"
   ]
  },
  {
   "cell_type": "code",
   "execution_count": 346,
   "metadata": {},
   "outputs": [
    {
     "name": "stdout",
     "output_type": "stream",
     "text": [
      "FNC accuracy:\n"
     ]
    },
    {
     "data": {
      "text/plain": [
       "0.038510911424903725"
      ]
     },
     "execution_count": 346,
     "metadata": {},
     "output_type": "execute_result"
    }
   ],
   "source": [
    "print('FNC accuracy:')\n",
    "accuracy(y, np.argmax(pred, axis = 1))"
   ]
  },
  {
   "cell_type": "code",
   "execution_count": 377,
   "metadata": {},
   "outputs": [
    {
     "name": "stdout",
     "output_type": "stream",
     "text": [
      "70.16538214683533\n",
      "BKM accuracy:\n"
     ]
    },
    {
     "data": {
      "text/plain": [
       "0.07509627727856226"
      ]
     },
     "execution_count": 377,
     "metadata": {},
     "output_type": "execute_result"
    }
   ],
   "source": [
    "start = time.time()\n",
    "pred = BKM(np.array(X).T, 0.1, 13, 100)\n",
    "print(time.time() - start)\n",
    "print('BKM accuracy:')\n",
    "accuracy(y, np.argmax(pred, axis = 1))"
   ]
  },
  {
   "cell_type": "code",
   "execution_count": 378,
   "metadata": {},
   "outputs": [
    {
     "name": "stderr",
     "output_type": "stream",
     "text": [
      "<ipython-input-308-248496089200>:41: RuntimeWarning: invalid value encountered in double_scalars\n",
      "  np.sqrt(Y[:, l].T @ Y[:, l] + (1 - Y[i, l]))) - ((Y[:, l].T @ G[:, l] - Y[i, l] * G[i, l])/\\\n"
     ]
    },
    {
     "name": "stdout",
     "output_type": "stream",
     "text": [
      "152.08266043663025\n",
      "FNC accuracy:\n",
      "0.038510911424903725\n"
     ]
    }
   ],
   "source": [
    "start = time.time()\n",
    "pred = FNC(np.array(X.T), 20, 13, 0.1, 100)\n",
    "print(time.time() - start)\n",
    "print('FNC accuracy:')\n",
    "print(accuracy(y, np.argmax(pred, axis = 1)))"
   ]
  },
  {
   "cell_type": "code",
   "execution_count": 379,
   "metadata": {},
   "outputs": [
    {
     "name": "stdout",
     "output_type": "stream",
     "text": [
      "84.75844645500183\n",
      "BKM accuracy:\n"
     ]
    },
    {
     "data": {
      "text/plain": [
       "0.10012836970474968"
      ]
     },
     "execution_count": 379,
     "metadata": {},
     "output_type": "execute_result"
    }
   ],
   "source": [
    "start = time.time()\n",
    "pred = BKM(np.array(X).T, 0.1, 30, 100)\n",
    "print(time.time() - start)\n",
    "print('BKM accuracy:')\n",
    "accuracy(y, np.argmax(pred, axis = 1))"
   ]
  },
  {
   "cell_type": "code",
   "execution_count": 380,
   "metadata": {},
   "outputs": [
    {
     "name": "stderr",
     "output_type": "stream",
     "text": [
      "<ipython-input-308-248496089200>:41: RuntimeWarning: invalid value encountered in double_scalars\n",
      "  np.sqrt(Y[:, l].T @ Y[:, l] + (1 - Y[i, l]))) - ((Y[:, l].T @ G[:, l] - Y[i, l] * G[i, l])/\\\n"
     ]
    },
    {
     "name": "stdout",
     "output_type": "stream",
     "text": [
      "277.4200403690338\n",
      "FNC accuracy:\n",
      "0.038510911424903725\n"
     ]
    }
   ],
   "source": [
    "start = time.time()\n",
    "pred = FNC(np.array(X.T), 20, 30, 0.1, 100)\n",
    "print(time.time() - start)\n",
    "print('FNC accuracy:')\n",
    "print(accuracy(y, np.argmax(pred, axis = 1)))"
   ]
  },
  {
   "cell_type": "markdown",
   "metadata": {},
   "source": [
    "3. `segments`\n",
    "---"
   ]
  },
  {
   "cell_type": "code",
   "execution_count": 367,
   "metadata": {},
   "outputs": [],
   "source": [
    "data = pd.read_csv('Data/segments.csv')"
   ]
  },
  {
   "cell_type": "code",
   "execution_count": 368,
   "metadata": {},
   "outputs": [
    {
     "data": {
      "text/plain": [
       "7"
      ]
     },
     "execution_count": 368,
     "metadata": {},
     "output_type": "execute_result"
    }
   ],
   "source": [
    "X = data.iloc[:, 1:-1]\n",
    "y = data['class']\n",
    "len(np.unique(y))"
   ]
  },
  {
   "cell_type": "code",
   "execution_count": 349,
   "metadata": {},
   "outputs": [
    {
     "name": "stdout",
     "output_type": "stream",
     "text": [
      "BKM time:\n",
      "84.27114772796631\n",
      "BKM accuracy:\n",
      "0.5177489177489177\n"
     ]
    }
   ],
   "source": [
    "start = time.time()\n",
    "pred = BKM(np.array(X).T, 0.1, 7, 100)\n",
    "print('BKM time:')\n",
    "print(time.time() - start)\n",
    "print('BKM accuracy:')\n",
    "print(accuracy(y, np.argmax(pred, axis = 1)))"
   ]
  },
  {
   "cell_type": "code",
   "execution_count": 350,
   "metadata": {},
   "outputs": [
    {
     "name": "stderr",
     "output_type": "stream",
     "text": [
      "<ipython-input-308-248496089200>:41: RuntimeWarning: invalid value encountered in double_scalars\n",
      "  np.sqrt(Y[:, l].T @ Y[:, l] + (1 - Y[i, l]))) - ((Y[:, l].T @ G[:, l] - Y[i, l] * G[i, l])/\\\n"
     ]
    },
    {
     "name": "stdout",
     "output_type": "stream",
     "text": [
      "FNC time:\n",
      "153.7147135734558\n",
      "FNC accuracy:\n",
      "0.14285714285714285\n"
     ]
    }
   ],
   "source": [
    "start = time.time()\n",
    "pred = FNC(np.array(X).T, 20, 7, 0.1, 100)\n",
    "print('FNC time:')\n",
    "print(time.time() - start)\n",
    "print('FNC accuracy:')\n",
    "print(accuracy(y, np.argmax(pred, axis = 1)))"
   ]
  },
  {
   "cell_type": "code",
   "execution_count": 369,
   "metadata": {},
   "outputs": [
    {
     "name": "stdout",
     "output_type": "stream",
     "text": [
      "BKM time:\n",
      "89.83737206459045\n",
      "BKM accuracy:\n",
      "0.3562770562770563\n"
     ]
    }
   ],
   "source": [
    "start = time.time()\n",
    "pred = BKM(np.array(X).T, 0.1, 3, 100)\n",
    "print('BKM time:')\n",
    "print(time.time() - start)\n",
    "print('BKM accuracy:')\n",
    "print(accuracy(y, np.argmax(pred, axis = 1)))"
   ]
  },
  {
   "cell_type": "code",
   "execution_count": 370,
   "metadata": {},
   "outputs": [
    {
     "name": "stderr",
     "output_type": "stream",
     "text": [
      "<ipython-input-308-248496089200>:41: RuntimeWarning: invalid value encountered in double_scalars\n",
      "  np.sqrt(Y[:, l].T @ Y[:, l] + (1 - Y[i, l]))) - ((Y[:, l].T @ G[:, l] - Y[i, l] * G[i, l])/\\\n"
     ]
    },
    {
     "name": "stdout",
     "output_type": "stream",
     "text": [
      "FNC time:\n",
      "137.1716606616974\n",
      "FNC accuracy:\n",
      "0.14285714285714285\n"
     ]
    }
   ],
   "source": [
    "start = time.time()\n",
    "pred = FNC(np.array(X).T, 20, 3, 0.1, 100)\n",
    "print('FNC time:')\n",
    "print(time.time() - start)\n",
    "print('FNC accuracy:')\n",
    "print(accuracy(y, np.argmax(pred, axis = 1)))"
   ]
  },
  {
   "cell_type": "code",
   "execution_count": 371,
   "metadata": {},
   "outputs": [
    {
     "name": "stdout",
     "output_type": "stream",
     "text": [
      "BKM time:\n",
      "119.00968718528748\n",
      "BKM accuracy:\n",
      "0.6038961038961039\n"
     ]
    }
   ],
   "source": [
    "start = time.time()\n",
    "pred = BKM(np.array(X).T, 0.1, 10, 100)\n",
    "print('BKM time:')\n",
    "print(time.time() - start)\n",
    "print('BKM accuracy:')\n",
    "print(accuracy(y, np.argmax(pred, axis = 1)))"
   ]
  },
  {
   "cell_type": "code",
   "execution_count": 372,
   "metadata": {},
   "outputs": [
    {
     "name": "stderr",
     "output_type": "stream",
     "text": [
      "<ipython-input-308-248496089200>:41: RuntimeWarning: invalid value encountered in double_scalars\n",
      "  np.sqrt(Y[:, l].T @ Y[:, l] + (1 - Y[i, l]))) - ((Y[:, l].T @ G[:, l] - Y[i, l] * G[i, l])/\\\n"
     ]
    },
    {
     "name": "stdout",
     "output_type": "stream",
     "text": [
      "FNC time:\n",
      "241.94911670684814\n",
      "FNC accuracy:\n",
      "0.14285714285714285\n"
     ]
    }
   ],
   "source": [
    "start = time.time()\n",
    "pred = FNC(np.array(X).T, 20, 10, 0.1, 100)\n",
    "print('FNC time:')\n",
    "print(time.time() - start)\n",
    "print('FNC accuracy:')\n",
    "print(accuracy(y, np.argmax(pred, axis = 1)))"
   ]
  },
  {
   "cell_type": "markdown",
   "metadata": {},
   "source": [
    "4. `glass`\n",
    "---"
   ]
  },
  {
   "cell_type": "code",
   "execution_count": 391,
   "metadata": {},
   "outputs": [],
   "source": [
    "data = pd.read_csv('Data/glass_processed.csv')"
   ]
  },
  {
   "cell_type": "code",
   "execution_count": 392,
   "metadata": {},
   "outputs": [
    {
     "data": {
      "text/plain": [
       "6"
      ]
     },
     "execution_count": 392,
     "metadata": {},
     "output_type": "execute_result"
    }
   ],
   "source": [
    "X = data.iloc[:, 1:-1]\n",
    "y = data['target']\n",
    "len(np.unique(y))"
   ]
  },
  {
   "cell_type": "code",
   "execution_count": 361,
   "metadata": {},
   "outputs": [
    {
     "name": "stdout",
     "output_type": "stream",
     "text": [
      "BKM time:\n",
      "0.8450148105621338\n",
      "BKM accuracy:\n",
      "0.411214953271028\n"
     ]
    }
   ],
   "source": [
    "start = time.time()\n",
    "pred = BKM(np.array(X).T, 0.1, 6, 100)\n",
    "print('BKM time:')\n",
    "print(time.time() - start)\n",
    "print('BKM accuracy:')\n",
    "print(accuracy(y, np.argmax(pred, axis = 1)))"
   ]
  },
  {
   "cell_type": "code",
   "execution_count": 362,
   "metadata": {},
   "outputs": [
    {
     "name": "stderr",
     "output_type": "stream",
     "text": [
      "<ipython-input-308-248496089200>:41: RuntimeWarning: invalid value encountered in double_scalars\n",
      "  np.sqrt(Y[:, l].T @ Y[:, l] + (1 - Y[i, l]))) - ((Y[:, l].T @ G[:, l] - Y[i, l] * G[i, l])/\\\n"
     ]
    },
    {
     "name": "stdout",
     "output_type": "stream",
     "text": [
      "FNC time:\n",
      "4.29346489906311\n",
      "FNC accuracy:\n",
      "0.35514018691588783\n"
     ]
    }
   ],
   "source": [
    "start = time.time()\n",
    "pred = FNC(np.array(X).T, 20, 6, 0.1, 100)\n",
    "print('FNC time:')\n",
    "print(time.time() - start)\n",
    "print('FNC accuracy:')\n",
    "print(accuracy(y, np.argmax(pred, axis = 1)))"
   ]
  },
  {
   "cell_type": "code",
   "execution_count": 363,
   "metadata": {},
   "outputs": [
    {
     "name": "stdout",
     "output_type": "stream",
     "text": [
      "BKM time:\n",
      "0.9201807975769043\n",
      "BKM accuracy:\n",
      "0.35514018691588783\n"
     ]
    }
   ],
   "source": [
    "start = time.time()\n",
    "pred = BKM(np.array(X).T, 0.1, 3, 100)\n",
    "print('BKM time:')\n",
    "print(time.time() - start)\n",
    "print('BKM accuracy:')\n",
    "print(accuracy(y, np.argmax(pred, axis = 1)))"
   ]
  },
  {
   "cell_type": "code",
   "execution_count": 364,
   "metadata": {},
   "outputs": [
    {
     "name": "stderr",
     "output_type": "stream",
     "text": [
      "<ipython-input-308-248496089200>:41: RuntimeWarning: invalid value encountered in double_scalars\n",
      "  np.sqrt(Y[:, l].T @ Y[:, l] + (1 - Y[i, l]))) - ((Y[:, l].T @ G[:, l] - Y[i, l] * G[i, l])/\\\n"
     ]
    },
    {
     "name": "stdout",
     "output_type": "stream",
     "text": [
      "FNC time:\n",
      "2.8923938274383545\n",
      "FNC accuracy:\n",
      "0.35514018691588783\n"
     ]
    }
   ],
   "source": [
    "start = time.time()\n",
    "pred = FNC(np.array(X).T, 20, 3, 0.1, 100)\n",
    "print('FNC time:')\n",
    "print(time.time() - start)\n",
    "print('FNC accuracy:')\n",
    "print(accuracy(y, np.argmax(pred, axis = 1)))"
   ]
  },
  {
   "cell_type": "code",
   "execution_count": 365,
   "metadata": {},
   "outputs": [
    {
     "name": "stdout",
     "output_type": "stream",
     "text": [
      "BKM time:\n",
      "0.9788575172424316\n",
      "BKM accuracy:\n",
      "0.411214953271028\n"
     ]
    }
   ],
   "source": [
    "start = time.time()\n",
    "pred = BKM(np.array(X).T, 0.1, 9, 100)\n",
    "print('BKM time:')\n",
    "print(time.time() - start)\n",
    "print('BKM accuracy:')\n",
    "print(accuracy(y, np.argmax(pred, axis = 1)))"
   ]
  },
  {
   "cell_type": "code",
   "execution_count": 366,
   "metadata": {},
   "outputs": [
    {
     "name": "stderr",
     "output_type": "stream",
     "text": [
      "<ipython-input-308-248496089200>:41: RuntimeWarning: invalid value encountered in double_scalars\n",
      "  np.sqrt(Y[:, l].T @ Y[:, l] + (1 - Y[i, l]))) - ((Y[:, l].T @ G[:, l] - Y[i, l] * G[i, l])/\\\n"
     ]
    },
    {
     "name": "stdout",
     "output_type": "stream",
     "text": [
      "FNC time:\n",
      "6.70219612121582\n",
      "FNC accuracy:\n",
      "0.35514018691588783\n"
     ]
    }
   ],
   "source": [
    "start = time.time()\n",
    "pred = FNC(np.array(X).T, 20, 9, 0.1, 100)\n",
    "print('FNC time:')\n",
    "print(time.time() - start)\n",
    "print('FNC accuracy:')\n",
    "print(accuracy(y, np.argmax(pred, axis = 1)))"
   ]
  },
  {
   "cell_type": "code",
   "execution_count": 415,
   "metadata": {},
   "outputs": [
    {
     "name": "stderr",
     "output_type": "stream",
     "text": [
      "<ipython-input-308-248496089200>:41: RuntimeWarning: invalid value encountered in double_scalars\n",
      "  np.sqrt(Y[:, l].T @ Y[:, l] + (1 - Y[i, l]))) - ((Y[:, l].T @ G[:, l] - Y[i, l] * G[i, l])/\\\n"
     ]
    }
   ],
   "source": [
    "fnc_acc = []\n",
    "bkm_acc = []\n",
    "k = [10, 20, 40, 50, 100, 120, 150, 200, 500, 1000]\n",
    "\n",
    "for i in k:\n",
    "    #pred_bkm = BKM(np.array(X).T, 0.1, 9, 100)\n",
    "    pred_fnc = FNC(np.array(X).T, i, 3, 0.1, 100)\n",
    "    fnc_acc.append(accuracy(y, np.argmax(pred_fnc, axis = 1)))"
   ]
  },
  {
   "cell_type": "code",
   "execution_count": 416,
   "metadata": {},
   "outputs": [
    {
     "data": {
      "text/plain": [
       "Text(0.5, 1.0, 'Accuracy of FNC depending on number of neigbours (glass)')"
      ]
     },
     "execution_count": 416,
     "metadata": {},
     "output_type": "execute_result"
    },
    {
     "data": {
      "image/png": "[encoded data removed]",
      "text/plain": [
       "<Figure size 432x288 with 1 Axes>"
      ]
     },
     "metadata": {
      "needs_background": "light"
     },
     "output_type": "display_data"
    }
   ],
   "source": [
    "plt.plot(k, fnc_acc)\n",
    "plt.grid()\n",
    "plt.xlabel('number of neighbours (k)')\n",
    "plt.ylabel('accuracy')\n",
    "plt.title('Accuracy of FNC depending on number of neigbours (glass)')"
   ]
  },
  {
   "cell_type": "code",
   "execution_count": 420,
   "metadata": {},
   "outputs": [
    {
     "name": "stderr",
     "output_type": "stream",
     "text": [
      "<ipython-input-308-248496089200>:41: RuntimeWarning: invalid value encountered in double_scalars\n",
      "  np.sqrt(Y[:, l].T @ Y[:, l] + (1 - Y[i, l]))) - ((Y[:, l].T @ G[:, l] - Y[i, l] * G[i, l])/\\\n"
     ]
    }
   ],
   "source": [
    "fnc_acc = []\n",
    "bkm_acc = []\n",
    "m = [3, 6, 9, 12, 24, 48]\n",
    "\n",
    "for i in m:\n",
    "    pred_bkm = BKM(np.array(X).T, 0.1, i, 100)\n",
    "    pred_fnc = FNC(np.array(X).T, 20, i, 0.1, 100)\n",
    "    fnc_acc.append(accuracy(y, np.argmax(pred_fnc, axis = 1)))\n",
    "    bkm_acc.append(accuracy(y, np.argmax(pred_bkm, axis = 1)))"
   ]
  },
  {
   "cell_type": "code",
   "execution_count": 421,
   "metadata": {},
   "outputs": [
    {
     "data": {
      "text/plain": [
       "Text(0, 0.5, 'accuracy')"
      ]
     },
     "execution_count": 421,
     "metadata": {},
     "output_type": "execute_result"
    },
    {
     "data": {
      "image/png": "[encoded data removed]",
      "text/plain": [
       "<Figure size 936x288 with 2 Axes>"
      ]
     },
     "metadata": {
      "needs_background": "light"
     },
     "output_type": "display_data"
    }
   ],
   "source": [
    "fig, ax = plt.subplots(1, 2, figsize = (13, 4))\n",
    "ax[0].plot(m, bkm_acc)\n",
    "ax[0].set_title('Accuracy of BKM depending on number of clusters (glass)')\n",
    "ax[0].grid()\n",
    "ax[0].set_xlabel('number of clusters (m)')\n",
    "ax[0].set_ylabel('accuracy')\n",
    "ax[1].plot(m, fnc_acc)\n",
    "ax[1].set_title('Accuracy of FNC depending on number of clusters (glass)')\n",
    "ax[1].grid()\n",
    "ax[1].set_xlabel('number of clusters (m)')\n",
    "ax[1].set_ylabel('accuracy')"
   ]
  },
  {
   "cell_type": "code",
   "execution_count": 417,
   "metadata": {},
   "outputs": [
    {
     "name": "stderr",
     "output_type": "stream",
     "text": [
      "<ipython-input-308-248496089200>:41: RuntimeWarning: invalid value encountered in double_scalars\n",
      "  np.sqrt(Y[:, l].T @ Y[:, l] + (1 - Y[i, l]))) - ((Y[:, l].T @ G[:, l] - Y[i, l] * G[i, l])/\\\n"
     ]
    }
   ],
   "source": [
    "fnc_acc = []\n",
    "bkm_acc = []\n",
    "gamma = [1e-4, 1e-3, 1e-2, 1e-1, 1]\n",
    "\n",
    "for i in gamma:\n",
    "    pred_bkm = BKM(np.array(X).T, i, 6, 100)\n",
    "    pred_fnc = FNC(np.array(X).T, 20, 6, i, 100)\n",
    "    fnc_acc.append(accuracy(y, np.argmax(pred_fnc, axis = 1)))\n",
    "    bkm_acc.append(accuracy(y, np.argmax(pred_bkm, axis = 1)))"
   ]
  },
  {
   "cell_type": "code",
   "execution_count": 419,
   "metadata": {},
   "outputs": [
    {
     "data": {
      "text/plain": [
       "Text(0, 0.5, 'accuracy')"
      ]
     },
     "execution_count": 419,
     "metadata": {},
     "output_type": "execute_result"
    },
    {
     "data": {
      "image/png": "[encoded data removed]",
      "text/plain": [
       "<Figure size 1008x288 with 2 Axes>"
      ]
     },
     "metadata": {
      "needs_background": "light"
     },
     "output_type": "display_data"
    }
   ],
   "source": [
    "fig, ax = plt.subplots(1, 2, figsize = (14, 4))\n",
    "ax[0].plot(gamma, bkm_acc)\n",
    "ax[0].set_title('Accuracy of BKM depending on regularization parameter (glass)')\n",
    "ax[0].grid()\n",
    "ax[0].set_xlabel('regularization parameter (gamma)')\n",
    "ax[0].set_ylabel('accuracy')\n",
    "ax[1].plot(gamma, fnc_acc)\n",
    "ax[1].set_title('Accuracy of FNC depending on regularization parameter (glass)')\n",
    "ax[1].grid()\n",
    "ax[1].set_xlabel('regularization parameter (gamma)')\n",
    "ax[1].set_ylabel('accuracy')"
   ]
  },
  {
   "cell_type": "markdown",
   "metadata": {},
   "source": [
    "5. `MNIST`\n",
    "---"
   ]
  },
  {
   "cell_type": "code",
   "execution_count": 381,
   "metadata": {},
   "outputs": [],
   "source": [
    "mnist=pd.read_csv('https://pkgstore.datahub.io/machine-learning/mnist_784/mnist_784_csv/data/89c44af4c515d5a3c132bc3cc298a6bd/mnist_784_csv.csv')\n",
    "X_mnist=mnist.drop('class',axis=1)\n",
    "y_mnist=mnist['class']"
   ]
  },
  {
   "cell_type": "code",
   "execution_count": 386,
   "metadata": {},
   "outputs": [],
   "source": [
    "X = X_mnist[:6000]\n",
    "y = y_mnist[:6000]"
   ]
  },
  {
   "cell_type": "code",
   "execution_count": 387,
   "metadata": {},
   "outputs": [
    {
     "name": "stdout",
     "output_type": "stream",
     "text": [
      "BKM time:\n",
      "302.43964171409607\n",
      "BKM accuracy:\n",
      "0.591\n"
     ]
    }
   ],
   "source": [
    "start = time.time()\n",
    "pred = BKM(np.array(X).T, 0.1, 10, 100)\n",
    "print('BKM time:')\n",
    "print(time.time() - start)\n",
    "print('BKM accuracy:')\n",
    "print(accuracy(y, np.argmax(pred, axis = 1)))"
   ]
  },
  {
   "cell_type": "code",
   "execution_count": 388,
   "metadata": {},
   "outputs": [
    {
     "name": "stderr",
     "output_type": "stream",
     "text": [
      "<ipython-input-308-248496089200>:41: RuntimeWarning: invalid value encountered in double_scalars\n",
      "  np.sqrt(Y[:, l].T @ Y[:, l] + (1 - Y[i, l]))) - ((Y[:, l].T @ G[:, l] - Y[i, l] * G[i, l])/\\\n"
     ]
    },
    {
     "name": "stdout",
     "output_type": "stream",
     "text": [
      "FNC time:\n",
      "1805.6319298744202\n",
      "FNC accuracy:\n",
      "0.11183333333333334\n"
     ]
    }
   ],
   "source": [
    "start = time.time()\n",
    "pred = FNC(np.array(X).T, 20, 10, 0.1, 100)\n",
    "print('FNC time:')\n",
    "print(time.time() - start)\n",
    "print('FNC accuracy:')\n",
    "print(accuracy(y, np.argmax(pred, axis = 1)))"
   ]
  },
  {
   "cell_type": "code",
   "execution_count": null,
   "metadata": {},
   "outputs": [],
   "source": []
  }
 ],
 "metadata": {
  "kernelspec": {
   "display_name": "Python 3",
   "language": "python",
   "name": "python3"
  },
  "language_info": {
   "codemirror_mode": {
    "name": "ipython",
    "version": 3
   },
   "file_extension": ".py",
   "mimetype": "text/x-python",
   "name": "python",
   "nbconvert_exporter": "python",
   "pygments_lexer": "ipython3",
   "version": "3.8.3"
  }
 },
 "nbformat": 4,
 "nbformat_minor": 4
}
