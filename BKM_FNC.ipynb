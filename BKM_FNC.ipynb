{
 "cells": [
  {
   "cell_type": "code",
   "execution_count": 10,
   "metadata": {},
   "outputs": [],
   "source": [
    "import numpy as np\n",
    "import matplotlib.pyplot as plt\n",
    "from scipy.spatial import distance\n",
    "from scipy.linalg import sqrtm\n",
    "import pandas as pd\n",
    "np.random.seed(123)"
   ]
  },
  {
   "cell_type": "code",
   "execution_count": 11,
   "metadata": {},
   "outputs": [],
   "source": [
    "# https://stackoverflow.com/questions/20295046/numpy-change-max-in-each-row-to-1-all-other-numbers-to-0\n",
    "def BKM(X, gamma, c, n_steps):\n",
    "    '''\n",
    "    Implementation of Balanced K-Means (Algorithm 2).\n",
    "    \n",
    "    Attributes:\n",
    "    ---\n",
    "    X: ndarray\n",
    "        Matrix (dxn), d is the number of features, n is the number of observations.\n",
    "    gamma: float\n",
    "        Regularization parameter.\n",
    "    c: int\n",
    "        Number of clusters.\n",
    "    n_steps: int\n",
    "        Number of iterations.\n",
    "    \n",
    "    Returns:\n",
    "    ---\n",
    "    F: ndarray\n",
    "        Matrix (nxc) with predicted clusters.\n",
    "    '''\n",
    "    n = X.shape[1]\n",
    "    A = np.random.normal(size=(n, c))\n",
    "    F = np.zeros_like(A)\n",
    "    F[np.arange(len(A)), A.argmax(1)] = 1\n",
    "    \n",
    "    for i in range(n_steps):\n",
    "        H = X @ F @ np.linalg.inv(F.T @ F)\n",
    "        F_new = F.copy()\n",
    "        j = 0\n",
    "        while (np.linalg.norm(F_new - F) == 0) & (j < 10):\n",
    "            G = (n * gamma * np.identity(n) - gamma * np.ones(n).reshape(-1, 1) @ (np.ones(n).reshape(-1, 1).T)) @ F\n",
    "            Q = G + X.T @ H - 1/2 * np.ones(n).reshape(-1, 1) @ (np.ones(X.shape[0]).reshape(-1, 1).T) @ (H * H)\n",
    "            F_new = np.zeros_like(F_new)\n",
    "            F_new[np.arange(len(Q)), Q.argmax(1)] = 1\n",
    "            j += 1\n",
    "        F = F_new.copy()\n",
    "    \n",
    "    return F"
   ]
  },
  {
   "cell_type": "code",
   "execution_count": 12,
   "metadata": {},
   "outputs": [],
   "source": [
    "# https://stackoverflow.com/questions/48312205/find-the-k-nearest-neighbours-of-a-point-in-3d-space-with-python-numpy\n",
    "\n",
    "def construct_similarity_matrix(X, W, k):\n",
    "    '''\n",
    "    Calculates the similarity matrix.\n",
    "    \n",
    "    Attributes:\n",
    "    ---\n",
    "    X: ndarray\n",
    "        Matrix (dxn), d is the number of features, n is the number of observations.\n",
    "    W: ndarray\n",
    "        Matrix XF inv(F'F) where F is cluster indicator matrix\n",
    "    k: int\n",
    "        Number of neighbours.\n",
    "    \n",
    "    Returns:\n",
    "    ---\n",
    "    B: ndarray\n",
    "        Similarity matrix (nxm).\n",
    "    '''\n",
    "    B = np.zeros((X.shape[1], W.shape[1]))\n",
    "    D = distance.squareform(distance.pdist(X.T)) # Matrix of distances n x n \n",
    "    closest = np.argsort(D, axis=1)\n",
    "    closest_inds = closest[:, 1 : k+2] # Indices of rows closest to row i, n x k\n",
    "    \n",
    "    for i in range(B.shape[0]):\n",
    "        for j in range(B.shape[1]):\n",
    "            if j in closest_inds[i, :-1]:\n",
    "                B[i, j] = (((D[i, closest_inds[i, -1]]) ** 2) - np.linalg.norm(X[:, i] - W[:, j]) ** 2) /\\\n",
    "                (k * ((D[i, closest_inds[i, -1]]) ** 2) - np.sum((D[i, closest_inds[i, :-1]]) ** 2))\n",
    "            else:\n",
    "                B[i, j] = 0\n",
    "    \n",
    "    return B"
   ]
  },
  {
   "cell_type": "code",
   "execution_count": 23,
   "metadata": {},
   "outputs": [],
   "source": [
    "def FNC(X, k, m, gamma, n_steps):\n",
    "    '''\n",
    "    Implementation of Fast Normalized Cut (Algorithm 3) from the article.\n",
    "    \n",
    "    Attributes:\n",
    "    ---\n",
    "    X: ndarray\n",
    "        Matrix (dxn), d is the number of features, n is the number of observations.\n",
    "    k: int\n",
    "        Number of neighbours.\n",
    "    m: int\n",
    "        Number of clusters for BKM.\n",
    "    gamma: float\n",
    "        Regularization parameter.\n",
    "    n_steps: int\n",
    "        Number of iterations.\n",
    "    \n",
    "    Returns:\n",
    "    ---\n",
    "    Y: ndarray\n",
    "        Matrix (nxc) with predicted clusters.\n",
    "    '''\n",
    "    n = X.shape[1]\n",
    "    clusters = BKM(X, gamma, m, 100)\n",
    "    \n",
    "    W = X @ clusters @ np.linalg.inv(clusters.T @ clusters)\n",
    "    B = construct_similarity_matrix(X, W, k)\n",
    "    delta = np.diag(np.sum(B, axis = 0).tolist())\n",
    "    PPT = B @ np.linalg.inv(delta) @ B.T\n",
    "    \n",
    "    A = np.random.normal(size=(n, m))\n",
    "    Y = np.zeros_like(A)\n",
    "    Y[np.arange(len(A)), A.argmax(1)] = 1\n",
    "    \n",
    "    for k in range(n_steps):\n",
    "        G = PPT @ Y @ np.linalg.inv(sqrtm(Y.T @ Y))\n",
    "        s = np.zeros_like(Y)\n",
    "        for i in range(s.shape[0]):\n",
    "            for l in range(s.shape[1]):\n",
    "                s[i, l] = ((Y[:, l].T @ G[:, l] + G[i, l] * (1 - Y[i, l])) /\\\n",
    "                np.sqrt(Y[:, l].T @ Y[:, l] + (1 - Y[i, l]))) - ((Y[:, l].T @ G[:, l] - Y[i, l] * G[i, l])/\\\n",
    "                np.sqrt(Y[:, l].T @ Y[:, l] - Y[i, l]))\n",
    "        Y_new = np.zeros_like(Y)\n",
    "        Y_new[np.arange(len(s)), s.argmax(1)] = 1\n",
    "        Y = Y_new.copy()\n",
    "    \n",
    "        if np.linalg.det(Y.T @ Y) == 0:\n",
    "            return Y\n",
    "    \n",
    "    return Y"
   ]
  },
  {
   "cell_type": "code",
   "execution_count": 24,
   "metadata": {},
   "outputs": [],
   "source": [
    "data = pd.read_csv('Data/isolet5.data')"
   ]
  },
  {
   "cell_type": "code",
   "execution_count": 25,
   "metadata": {},
   "outputs": [],
   "source": [
    "X = data.iloc[:, :-1]\n",
    "y = data.iloc[:, -1]"
   ]
  },
  {
   "cell_type": "code",
   "execution_count": 26,
   "metadata": {},
   "outputs": [
    {
     "data": {
      "text/plain": [
       "(1558, 617)"
      ]
     },
     "execution_count": 26,
     "metadata": {},
     "output_type": "execute_result"
    }
   ],
   "source": [
    "X.shape"
   ]
  },
  {
   "cell_type": "code",
   "execution_count": 27,
   "metadata": {},
   "outputs": [],
   "source": [
    "pred = FNC(np.array(X.T), 20, 26, 0.1, 20)"
   ]
  },
  {
   "cell_type": "code",
   "execution_count": 31,
   "metadata": {},
   "outputs": [
    {
     "data": {
      "text/plain": [
       "(1558,)"
      ]
     },
     "execution_count": 31,
     "metadata": {},
     "output_type": "execute_result"
    }
   ],
   "source": [
    "np.argmax(pred, axis = 1)"
   ]
  },
  {
   "cell_type": "code",
   "execution_count": 32,
   "metadata": {},
   "outputs": [
    {
     "data": {
      "text/plain": [
       "0.03979460847240052"
      ]
     },
     "execution_count": 32,
     "metadata": {},
     "output_type": "execute_result"
    }
   ],
   "source": [
    "np.sum(y == np.argmax(pred, axis = 1)) / 1558"
   ]
  },
  {
   "cell_type": "code",
   "execution_count": null,
   "metadata": {},
   "outputs": [],
   "source": []
  }
 ],
 "metadata": {
  "kernelspec": {
   "display_name": "Python 3",
   "language": "python",
   "name": "python3"
  },
  "language_info": {
   "codemirror_mode": {
    "name": "ipython",
    "version": 3
   },
   "file_extension": ".py",
   "mimetype": "text/x-python",
   "name": "python",
   "nbconvert_exporter": "python",
   "pygments_lexer": "ipython3",
   "version": "3.8.3"
  }
 },
 "nbformat": 4,
 "nbformat_minor": 4
}
