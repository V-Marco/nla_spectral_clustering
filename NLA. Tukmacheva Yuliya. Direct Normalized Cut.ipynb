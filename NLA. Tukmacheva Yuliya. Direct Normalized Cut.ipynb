{
 "cells": [
  {
   "cell_type": "code",
   "execution_count": 1,
   "metadata": {},
   "outputs": [],
   "source": [
    "import pandas as pd\n",
    "import numpy as np\n",
    "from scipy.linalg import sqrtm\n",
    "from sklearn.metrics import accuracy_score\n",
    "import time\n",
    "import matplotlib.pyplot as plt\n",
    "from sklearn.datasets import make_blobs\n",
    "import warnings\n",
    "warnings.filterwarnings(\"ignore\")\n",
    "from scipy.spatial.distance import pdist,squareform,euclidean\n",
    "from sklearn.metrics.pairwise import pairwise_distances\n",
    "from sklearn.manifold.t_sne import (_joint_probabilities,\n",
    "                                    _kl_divergence)\n",
    "\n",
    "np.random.seed(123)"
   ]
  },
  {
   "cell_type": "code",
   "execution_count": 2,
   "metadata": {},
   "outputs": [],
   "source": [
    "def similarity_func(u, v):\n",
    "    '''\n",
    "    Auxiliary function for similarity matrix construction.\n",
    "    \n",
    "    Attributes:\n",
    "    ---\n",
    "    u, v: ndarray\n",
    "        Arrays of size (1xc), c is the number of classes.\n",
    "    \n",
    "    Returns:\n",
    "    ---\n",
    "    Gaussian kernel distance between the observations.\n",
    "    '''\n",
    "    return np.exp(-euclidean(u,v) ** 2 / 2)"
   ]
  },
  {
   "cell_type": "code",
   "execution_count": 3,
   "metadata": {},
   "outputs": [],
   "source": [
    "def DNC(X, n_classes, n_steps=100, tol=1e-5):\n",
    "    '''\n",
    "    Implementation of Direct Normalized Cut (Algorithm 1) from the article.\n",
    "    \n",
    "    Attributes:\n",
    "    ---\n",
    "    X: ndarray\n",
    "        Matrix (dxn), d is the number of features, n is the number of observations.\n",
    "    n_classes: int\n",
    "        Number of clusters.\n",
    "    n_steps: int\n",
    "        Number of iterations.\n",
    "    tol: float\n",
    "        Precision of the algorithm.\n",
    "    \n",
    "    Returns:\n",
    "    ---\n",
    "    Y: ndarray\n",
    "         Matrix (nxc) with predicted clusters.\n",
    "    '''\n",
    "    \n",
    "    A = squareform(pdist(X, similarity_func))\n",
    "                              \n",
    "    D_A = np.diag(A.sum(axis=1))\n",
    "    D_A_inv_0_5 = np.diag(np.power(A.sum(axis=1), -0.5))\n",
    "    D_A_0_5 = np.diag(np.power(A.sum(axis=1), 0.5))\n",
    "    \n",
    "    M = D_A_inv_0_5 @ A @ D_A_inv_0_5 + np.eye(A.shape[0])\n",
    "    \n",
    "    for i in range(0, 100):\n",
    "        try:\n",
    "            M += i*np.eye(A.shape[0])\n",
    "            np.linalg.cholesky(M)\n",
    "            print(\"Matrix is fine\")\n",
    "            break\n",
    "        except:\n",
    "            print(\"finding i\")\n",
    "        pass\n",
    "    \n",
    "    Y = np.random.rand(A.shape[0], n_classes)\n",
    "    trace_max = np.array([])\n",
    "    n_iter = 0\n",
    "    \n",
    "    while n_iter < n_steps:\n",
    "        G = M @ D_A_0_5 @ Y @ sqrtm(np.linalg.pinv((Y.T @ D_A @ Y)))\n",
    "        s_l = np.zeros_like(Y)\n",
    "        for i in range(Y.shape[0]):\n",
    "            for j in range(Y.shape[1]):\n",
    "                ft = (Y[:, j]).T @ D_A_0_5 @ G[:, j]\n",
    "                st = (Y[:, j]).T @ D_A @ Y[:, j]\n",
    "                s_l[i, j] = (ft + G[i][j] * D_A_0_5[i][i]*(1-Y[i][j]))/np.sqrt(st + D_A[i][i]*(1-Y[i][j])) - (ft - Y[i][j]*D_A_0_5[i][i]*G[i][j])/np.sqrt(st - D_A[i][i]*Y[i][j])\n",
    "                \n",
    "        Y_new = np.zeros_like(Y)\n",
    "        Y_new[np.arange(len(s_l)), s_l.argmax(1)] = 1\n",
    "        Y = Y_new.copy()\n",
    "              \n",
    "        trace_max = np.append(trace_max, np.trace((D_A_0_5 @ Y @ sqrtm(np.linalg.pinv((Y.T @ D_A @ Y)))).T @ G))\n",
    "        n_iter += 1\n",
    "    \n",
    "        if n_iter > 1:\n",
    "            if np.linalg.norm(trace_max[-1] - trace_max[-2]) < tol:\n",
    "                break\n",
    "            \n",
    "    return Y"
   ]
  },
  {
   "cell_type": "code",
   "execution_count": 4,
   "metadata": {},
   "outputs": [],
   "source": [
    "def accuracy(clusters_labels, y_true):\n",
    "    '''\n",
    "    Function for measuring accuracy of clusterization.\n",
    "    \n",
    "    Attributes:\n",
    "    ---\n",
    "    clusters_labels: ndarray\n",
    "        Predicted labels, size: (1xc).\n",
    "    y_true: ndarray\n",
    "        True labels, size: (1xc).\n",
    "    \n",
    "    Returns:\n",
    "    ---\n",
    "    accur: float\n",
    "        Accuracy of clusterization.\n",
    "    '''\n",
    "    clusters = np.unique(clusters_labels)\n",
    "    y_pred = np.empty(len(y_true))\n",
    "    \n",
    "    for cluster in clusters:\n",
    "        mask_cluster = clusters_labels == cluster\n",
    "        mean_pred = np.bincount(y_true[mask_cluster]).argmax()\n",
    "        y_pred[mask_cluster] = mean_pred\n",
    "    accur = accuracy_score(y_true, y_pred)\n",
    "    return accur"
   ]
  },
  {
   "cell_type": "code",
   "execution_count": 5,
   "metadata": {
    "scrolled": true
   },
   "outputs": [
    {
     "name": "stdout",
     "output_type": "stream",
     "text": [
      "Matrix is fine\n"
     ]
    },
    {
     "data": {
      "text/plain": [
       "0.45"
      ]
     },
     "execution_count": 5,
     "metadata": {},
     "output_type": "execute_result"
    },
    {
     "data": {
      "image/png": "[encoded data removed]",
      "text/plain": [
       "<Figure size 720x288 with 2 Axes>"
      ]
     },
     "metadata": {
      "needs_background": "light"
     },
     "output_type": "display_data"
    }
   ],
   "source": [
    "X, y = make_blobs(random_state=21)\n",
    "pred = DNC(X, 3,  100, 1e-5)\n",
    "fig, ax = plt.subplots(1, 2, figsize = (10, 4))\n",
    "ax[0].scatter(X[:, 0], X[:, 1], c = y)\n",
    "ax[0].set_title('DNC: Blobs True')\n",
    "ax[1].scatter(X[:, 0], X[:, 1], c = np.argmax(pred, axis = 1))\n",
    "ax[1].set_title('DNC: Blobs Predictions');\n",
    "\n",
    "predictions = np.array([])\n",
    "for i in range(pred.shape[0]):\n",
    "    predictions = np.append(predictions, np.argmax(pred[i,:]))\n",
    "\n",
    "accuracy(predictions, y)"
   ]
  },
  {
   "cell_type": "markdown",
   "metadata": {},
   "source": [
    "* Isolet5 Dataset ($1559 \\times 617$):"
   ]
  },
  {
   "cell_type": "code",
   "execution_count": 6,
   "metadata": {},
   "outputs": [],
   "source": [
    "data = pd.read_csv(\"C:/Users/Yuliya/Downloads/isolet5.data\", header=None)"
   ]
  },
  {
   "cell_type": "code",
   "execution_count": 7,
   "metadata": {},
   "outputs": [],
   "source": [
    "X = data.iloc[:, :-1]\n",
    "y = data.iloc[:, -1]"
   ]
  },
  {
   "cell_type": "code",
   "execution_count": 8,
   "metadata": {},
   "outputs": [
    {
     "name": "stdout",
     "output_type": "stream",
     "text": [
      "Matrix is fine\n",
      "673.9681901931763\n"
     ]
    }
   ],
   "source": [
    "start = time.time()\n",
    "pred = DNC(X, 26)\n",
    "print(time.time() - start)"
   ]
  },
  {
   "cell_type": "code",
   "execution_count": 9,
   "metadata": {},
   "outputs": [],
   "source": [
    "predictions = np.array([])\n",
    "for i in range(pred.shape[0]):\n",
    "    predictions = np.append(predictions, np.argmax(pred[i,:]))"
   ]
  },
  {
   "cell_type": "code",
   "execution_count": 10,
   "metadata": {},
   "outputs": [
    {
     "data": {
      "text/plain": [
       "0.1334188582424631"
      ]
     },
     "execution_count": 10,
     "metadata": {},
     "output_type": "execute_result"
    }
   ],
   "source": [
    "accuracy(predictions, y)"
   ]
  },
  {
   "cell_type": "markdown",
   "metadata": {},
   "source": [
    "* Set number of clusters to be $13$:"
   ]
  },
  {
   "cell_type": "code",
   "execution_count": 11,
   "metadata": {},
   "outputs": [
    {
     "name": "stdout",
     "output_type": "stream",
     "text": [
      "Matrix is fine\n",
      "430.7332139015198\n"
     ]
    }
   ],
   "source": [
    "start = time.time()\n",
    "pred = DNC(X, 13)\n",
    "print(time.time() - start)"
   ]
  },
  {
   "cell_type": "code",
   "execution_count": 12,
   "metadata": {},
   "outputs": [
    {
     "data": {
      "text/plain": [
       "0.0949326491340603"
      ]
     },
     "execution_count": 12,
     "metadata": {},
     "output_type": "execute_result"
    }
   ],
   "source": [
    "predictions = np.array([])\n",
    "for i in range(pred.shape[0]):\n",
    "    predictions = np.append(predictions, np.argmax(pred[i,:]))\n",
    "accuracy(predictions, y)"
   ]
  },
  {
   "cell_type": "markdown",
   "metadata": {},
   "source": [
    "* Set number of clusters to be $30$:"
   ]
  },
  {
   "cell_type": "code",
   "execution_count": 13,
   "metadata": {},
   "outputs": [
    {
     "name": "stdout",
     "output_type": "stream",
     "text": [
      "Matrix is fine\n",
      "652.1956553459167\n"
     ]
    }
   ],
   "source": [
    "start = time.time()\n",
    "pred = DNC(X, 30)\n",
    "print(time.time() - start)"
   ]
  },
  {
   "cell_type": "code",
   "execution_count": 14,
   "metadata": {},
   "outputs": [
    {
     "data": {
      "text/plain": [
       "0.13662604233483003"
      ]
     },
     "execution_count": 14,
     "metadata": {},
     "output_type": "execute_result"
    }
   ],
   "source": [
    "predictions = np.array([])\n",
    "for i in range(pred.shape[0]):\n",
    "    predictions = np.append(predictions, np.argmax(pred[i,:]))\n",
    "accuracy(predictions, y)"
   ]
  },
  {
   "cell_type": "markdown",
   "metadata": {},
   "source": [
    "* Segment Dataset ($2310 \\times 21$):"
   ]
  },
  {
   "cell_type": "code",
   "execution_count": 19,
   "metadata": {},
   "outputs": [],
   "source": [
    "segments = pd.read_csv(\"C:/Users/Yuliya/Downloads/segments.csv\")"
   ]
  },
  {
   "cell_type": "code",
   "execution_count": 20,
   "metadata": {},
   "outputs": [],
   "source": [
    "y = np.array(segments[\"class\"])\n",
    "X = segments.drop([\"class\"], axis=1)\n",
    "X = np.array(X)"
   ]
  },
  {
   "cell_type": "code",
   "execution_count": 21,
   "metadata": {},
   "outputs": [
    {
     "name": "stdout",
     "output_type": "stream",
     "text": [
      "Matrix is fine\n",
      "841.2778205871582\n"
     ]
    }
   ],
   "source": [
    "start = time.time()\n",
    "pred = DNC(X, 7, 10)\n",
    "print(time.time() - start)"
   ]
  },
  {
   "cell_type": "code",
   "execution_count": 22,
   "metadata": {},
   "outputs": [
    {
     "data": {
      "text/plain": [
       "0.14285714285714285"
      ]
     },
     "execution_count": 22,
     "metadata": {},
     "output_type": "execute_result"
    }
   ],
   "source": [
    "predictions = np.array([])\n",
    "for i in range(pred.shape[0]):\n",
    "    predictions = np.append(predictions, np.argmax(pred[i,:]))\n",
    "accuracy(predictions, y)"
   ]
  },
  {
   "cell_type": "markdown",
   "metadata": {},
   "source": [
    "* Set number of clusters to be $3$:"
   ]
  },
  {
   "cell_type": "code",
   "execution_count": 23,
   "metadata": {},
   "outputs": [
    {
     "name": "stdout",
     "output_type": "stream",
     "text": [
      "Matrix is fine\n",
      "413.2270333766937\n"
     ]
    }
   ],
   "source": [
    "start = time.time()\n",
    "pred = DNC(X, 3, 10)\n",
    "print(time.time() - start)"
   ]
  },
  {
   "cell_type": "code",
   "execution_count": 24,
   "metadata": {},
   "outputs": [
    {
     "data": {
      "text/plain": [
       "0.14285714285714285"
      ]
     },
     "execution_count": 24,
     "metadata": {},
     "output_type": "execute_result"
    }
   ],
   "source": [
    "predictions = np.array([])\n",
    "for i in range(pred.shape[0]):\n",
    "    predictions = np.append(predictions, np.argmax(pred[i,:]))\n",
    "accuracy(predictions, y)"
   ]
  },
  {
   "cell_type": "markdown",
   "metadata": {},
   "source": [
    "* Set number of clusters to be $10$:"
   ]
  },
  {
   "cell_type": "code",
   "execution_count": 25,
   "metadata": {},
   "outputs": [
    {
     "name": "stdout",
     "output_type": "stream",
     "text": [
      "Matrix is fine\n",
      "1202.0342786312103\n"
     ]
    }
   ],
   "source": [
    "start = time.time()\n",
    "pred = DNC(X, 10, 10)\n",
    "print(time.time() - start)"
   ]
  },
  {
   "cell_type": "code",
   "execution_count": 26,
   "metadata": {},
   "outputs": [
    {
     "data": {
      "text/plain": [
       "0.14285714285714285"
      ]
     },
     "execution_count": 26,
     "metadata": {},
     "output_type": "execute_result"
    }
   ],
   "source": [
    "predictions = np.array([])\n",
    "for i in range(pred.shape[0]):\n",
    "    predictions = np.append(predictions, np.argmax(pred[i,:]))\n",
    "accuracy(predictions, y)"
   ]
  },
  {
   "cell_type": "markdown",
   "metadata": {},
   "source": [
    "**Glass Data Set**"
   ]
  },
  {
   "cell_type": "code",
   "execution_count": 27,
   "metadata": {},
   "outputs": [],
   "source": [
    "glass = pd.read_csv(\"C:/Users/Yuliya/Downloads/glass_processed.csv\")"
   ]
  },
  {
   "cell_type": "code",
   "execution_count": 28,
   "metadata": {},
   "outputs": [],
   "source": [
    "y = glass[\"target\"]\n",
    "X = glass.iloc[:, :-1]"
   ]
  },
  {
   "cell_type": "code",
   "execution_count": 29,
   "metadata": {},
   "outputs": [
    {
     "name": "stdout",
     "output_type": "stream",
     "text": [
      "Matrix is fine\n",
      "1.329927682876587\n"
     ]
    }
   ],
   "source": [
    "start = time.time()\n",
    "pred = DNC(X, 6)\n",
    "print(time.time() - start)"
   ]
  },
  {
   "cell_type": "code",
   "execution_count": 30,
   "metadata": {},
   "outputs": [
    {
     "data": {
      "text/plain": [
       "0.3925233644859813"
      ]
     },
     "execution_count": 30,
     "metadata": {},
     "output_type": "execute_result"
    }
   ],
   "source": [
    "predictions = np.array([])\n",
    "for i in range(pred.shape[0]):\n",
    "    predictions = np.append(predictions, np.argmax(pred[i,:]))\n",
    "accuracy(predictions, y)"
   ]
  },
  {
   "cell_type": "markdown",
   "metadata": {},
   "source": [
    "* Set number of clusters to be $3$:"
   ]
  },
  {
   "cell_type": "code",
   "execution_count": 31,
   "metadata": {
    "scrolled": true
   },
   "outputs": [
    {
     "name": "stdout",
     "output_type": "stream",
     "text": [
      "Matrix is fine\n",
      "0.8100745677947998\n"
     ]
    }
   ],
   "source": [
    "start = time.time()\n",
    "pred = DNC(X, 3)\n",
    "print(time.time() - start)"
   ]
  },
  {
   "cell_type": "code",
   "execution_count": 32,
   "metadata": {},
   "outputs": [
    {
     "data": {
      "text/plain": [
       "0.3644859813084112"
      ]
     },
     "execution_count": 32,
     "metadata": {},
     "output_type": "execute_result"
    }
   ],
   "source": [
    "predictions = np.array([])\n",
    "for i in range(pred.shape[0]):\n",
    "    predictions = np.append(predictions, np.argmax(pred[i,:]))\n",
    "accuracy(predictions, y)"
   ]
  },
  {
   "cell_type": "markdown",
   "metadata": {},
   "source": [
    "* Set number of clusters to be $9$:"
   ]
  },
  {
   "cell_type": "code",
   "execution_count": 33,
   "metadata": {},
   "outputs": [
    {
     "name": "stdout",
     "output_type": "stream",
     "text": [
      "Matrix is fine\n",
      "1.5571143627166748\n"
     ]
    },
    {
     "data": {
      "text/plain": [
       "0.4392523364485981"
      ]
     },
     "execution_count": 33,
     "metadata": {},
     "output_type": "execute_result"
    }
   ],
   "source": [
    "start = time.time()\n",
    "pred = DNC(X, 9)\n",
    "print(time.time() - start)\n",
    "predictions = np.array([])\n",
    "for i in range(pred.shape[0]):\n",
    "    predictions = np.append(predictions, np.argmax(pred[i,:]))\n",
    "accuracy(predictions, y)"
   ]
  },
  {
   "cell_type": "markdown",
   "metadata": {},
   "source": [
    "* MNIST-Data-10:"
   ]
  },
  {
   "cell_type": "code",
   "execution_count": 5,
   "metadata": {},
   "outputs": [],
   "source": [
    "mnist=pd.read_csv('https://pkgstore.datahub.io/machine-learning/mnist_784/mnist_784_csv/data/89c44af4c515d5a3c132bc3cc298a6bd/mnist_784_csv.csv')"
   ]
  },
  {
   "cell_type": "code",
   "execution_count": 6,
   "metadata": {},
   "outputs": [],
   "source": [
    "X_mnist=mnist.drop('class',axis=1)\n",
    "y_mnist=mnist['class']"
   ]
  },
  {
   "cell_type": "code",
   "execution_count": 7,
   "metadata": {},
   "outputs": [],
   "source": [
    "X_mnist=X_mnist[:6000]\n",
    "y_mnist=y_mnist[:6000]"
   ]
  },
  {
   "cell_type": "code",
   "execution_count": 8,
   "metadata": {},
   "outputs": [
    {
     "name": "stdout",
     "output_type": "stream",
     "text": [
      "Matrix is fine\n",
      "4151.219917612365\n"
     ]
    }
   ],
   "source": [
    "start = time.time()\n",
    "pred = DNC(X_mnist, 10)\n",
    "print(time.time() - start)"
   ]
  },
  {
   "cell_type": "code",
   "execution_count": 9,
   "metadata": {},
   "outputs": [
    {
     "name": "stdout",
     "output_type": "stream",
     "text": [
      "0.128\n"
     ]
    }
   ],
   "source": [
    "predictions = np.array([])\n",
    "for i in range(pred.shape[0]):\n",
    "    predictions = np.append(predictions, np.argmax(pred[i,:]))\n",
    "accuracy(predictions, y_mnist)"
   ]
  }
 ],
 "metadata": {
  "kernelspec": {
   "display_name": "Python 3",
   "language": "python",
   "name": "python3"
  },
  "language_info": {
   "codemirror_mode": {
    "name": "ipython",
    "version": 3
   },
   "file_extension": ".py",
   "mimetype": "text/x-python",
   "name": "python",
   "nbconvert_exporter": "python",
   "pygments_lexer": "ipython3",
   "version": "3.8.3"
  }
 },
 "nbformat": 4,
 "nbformat_minor": 4
}
